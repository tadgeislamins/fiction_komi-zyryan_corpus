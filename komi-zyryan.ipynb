{
 "cells": [
  {
   "cell_type": "markdown",
   "metadata": {
    "id": "q-j0rPQajou_"
   },
   "source": [
    "Материалы: https://yarolika00.notion.site/Spot-the-bot-Information-for-Spot-the-bot-b03e2b3e31794caeaa43936d47d88c08"
   ]
  },
  {
   "cell_type": "markdown",
   "metadata": {
    "id": "yZiZyxJOhkQN"
   },
   "source": [
    "# Язык коми"
   ]
  },
  {
   "cell_type": "markdown",
   "metadata": {},
   "source": [
    "Материалы:\n",
    "* https://komikyv.org/ - источник художественных текстов для корпуса\n",
    "* https://github.com/timarkh/uniparser-grammar-komi-zyrian - морфологический анализатор\n",
    "* https://komi-zyrian.web-corpora.net/ - корпус прессы, к которому получила доступ у автора, и могу позже тоже добавить\n",
    "* https://dict.fu-lab.ru/ - онлайн-словари"
   ]
  },
  {
   "cell_type": "code",
   "execution_count": 1,
   "metadata": {
    "id": "RTk9xCVhuZmc"
   },
   "outputs": [],
   "source": [
    "import requests\n",
    "from bs4 import BeautifulSoup\n",
    "from tqdm import tqdm\n",
    "import pandas as pd\n",
    "import json"
   ]
  },
  {
   "cell_type": "code",
   "execution_count": 2,
   "metadata": {
    "id": "cOJxJfY-c53X"
   },
   "outputs": [],
   "source": [
    "def GetTextLinks(page_link):\n",
    "    main_link = 'https://komikyv.org/'\n",
    "\n",
    "    text_links = []\n",
    "\n",
    "    while True:\n",
    "        soup = BeautifulSoup(session.get(page_link).text, 'html.parser')\n",
    "\n",
    "        texts_on_page = soup.find_all('td', {'id': 'tht1'})\n",
    "        for text_on_page in texts_on_page:\n",
    "            text_link = text_on_page.find('a').attrs['href']\n",
    "            text_links.append(main_link + text_link)\n",
    "\n",
    "        next_html = soup.find('li', {'class': 'next'})\n",
    "        if next_html:\n",
    "            page_link = main_link + next_html.find('a').attrs['href']\n",
    "        else:\n",
    "            break\n",
    "\n",
    "    return text_links"
   ]
  },
  {
   "cell_type": "code",
   "execution_count": 3,
   "metadata": {
    "id": "Zijfr4Xqfkpu"
   },
   "outputs": [],
   "source": [
    "def GetTexts(text_links):\n",
    "    text_dicts = []\n",
    "    for link in tqdm(text_links):\n",
    "        soup = BeautifulSoup(session.get(link).text, 'html.parser')\n",
    "        metadata = soup.find('div', {'class': 'bloknot-v'})\n",
    "\n",
    "        title = soup.find('span', {'class': 'rdf-meta element-hidden'}).attrs['content']\n",
    "\n",
    "        author = ''\n",
    "        author_raw = metadata.find('div', {'class': 'field field-name-field-autor field-type-entityreference field-label-above'})\n",
    "        if author_raw:\n",
    "            author = author_raw.find('div', {'class': 'field-item even'}).text\n",
    "\n",
    "        genre = ''\n",
    "        genre_raw = metadata.find('div', {'class': 'field field-name-field-janr field-type-taxonomy-term-reference field-label-above'})\n",
    "        if genre_raw:\n",
    "            genre = genre_raw.find('div', {'class': 'field-item even'}).text\n",
    "\n",
    "        source = ''\n",
    "        source_raw = metadata.find('div', {'class': 'field field-name-field-istochnik field-type-taxonomy-term-reference field-label-above'})\n",
    "        if source_raw:\n",
    "            source = source_raw.find('div', {'class': 'field-item even'}).text\n",
    "\n",
    "        place = ''\n",
    "        place_raw = metadata.find('div', {'class': 'field field-name-field-moydanin field-type-taxonomy-term-reference field-label-above'})\n",
    "        if place_raw:\n",
    "            place = place_raw.find('div', {'class': 'field-item even'}).text\n",
    "\n",
    "        text = soup.find('div', {'class': 'padd'}).get_text()\n",
    "\n",
    "        text_dict = {'link': link, 'title': title, 'author': author, 'genre': genre, 'place': place, 'source': source, 'text': text}\n",
    "        text_dicts.append(text_dict)\n",
    "\n",
    "    return text_dicts"
   ]
  },
  {
   "cell_type": "code",
   "execution_count": 4,
   "metadata": {
    "id": "iq3uke3kfX0c"
   },
   "outputs": [],
   "source": [
    "session = requests.session()"
   ]
  },
  {
   "cell_type": "markdown",
   "metadata": {
    "id": "A1Se1AtEhjV4"
   },
   "source": [
    "## Раздел Проза"
   ]
  },
  {
   "cell_type": "code",
   "execution_count": null,
   "metadata": {
    "colab": {
     "base_uri": "https://localhost:8080/"
    },
    "id": "RkGGhr9Uc6FH",
    "outputId": "37f302be-588a-4a8d-e0e1-32c347291693"
   },
   "outputs": [
    {
     "data": {
      "text/plain": [
       "1929"
      ]
     },
     "execution_count": 371,
     "metadata": {},
     "output_type": "execute_result"
    }
   ],
   "source": [
    "prose_first_link = 'https://komikyv.org/kpv/library?field_category_tid_1=Проза&field_perevodl_tid=Нет'\n",
    "prose_links = GetTextLinks(prose_first_link)\n",
    "len(prose_links)"
   ]
  },
  {
   "cell_type": "code",
   "execution_count": null,
   "metadata": {
    "id": "se9vcjDrDF9v"
   },
   "outputs": [],
   "source": [
    "with open('proza_links.txt', 'w', encoding='utf-8') as file:\n",
    "    file.write('\\n'.join(prose_links))"
   ]
  },
  {
   "cell_type": "code",
   "execution_count": null,
   "metadata": {
    "id": "pz0Ai7bYgt3h"
   },
   "outputs": [],
   "source": [
    "prose_dicts = GetTexts(prose_links)"
   ]
  },
  {
   "cell_type": "code",
   "execution_count": null,
   "metadata": {
    "id": "dzikw5XlXyoG"
   },
   "outputs": [],
   "source": [
    "with open('proza_texts.json', 'w') as file:\n",
    "    json.dump(prose_dicts, file, ensure_ascii=False)"
   ]
  },
  {
   "cell_type": "code",
   "execution_count": 161,
   "metadata": {},
   "outputs": [
    {
     "data": {
      "text/html": [
       "<div>\n",
       "<style scoped>\n",
       "    .dataframe tbody tr th:only-of-type {\n",
       "        vertical-align: middle;\n",
       "    }\n",
       "\n",
       "    .dataframe tbody tr th {\n",
       "        vertical-align: top;\n",
       "    }\n",
       "\n",
       "    .dataframe thead th {\n",
       "        text-align: right;\n",
       "    }\n",
       "</style>\n",
       "<table border=\"1\" class=\"dataframe\">\n",
       "  <thead>\n",
       "    <tr style=\"text-align: right;\">\n",
       "      <th></th>\n",
       "      <th>link</th>\n",
       "      <th>title</th>\n",
       "      <th>author</th>\n",
       "      <th>genre</th>\n",
       "      <th>place</th>\n",
       "      <th>source</th>\n",
       "      <th>text</th>\n",
       "    </tr>\n",
       "  </thead>\n",
       "  <tbody>\n",
       "    <tr>\n",
       "      <th>0</th>\n",
       "      <td>https://komikyv.org//kpv/content/%D0%B0-%D0%B2...</td>\n",
       "      <td>А вӧрыс ыпъялӧ-сотчӧ</td>\n",
       "      <td>Белых Иван</td>\n",
       "      <td>Висьт</td>\n",
       "      <td>Сыктывкар</td>\n",
       "      <td>Важыс уськӧдчывлӧ вӧтӧн (2005)</td>\n",
       "      <td>\\n\\nА ВӦРЫС ЫПЪЯЛӦ-СОТЧӦ\\n\\n\\t \\n\\n\\tКолӧ жӧ в...</td>\n",
       "    </tr>\n",
       "    <tr>\n",
       "      <th>1</th>\n",
       "      <td>https://komikyv.org//kpv/content/%D0%B0-%D0%BA...</td>\n",
       "      <td>А комиясыд медсюсьӧсь</td>\n",
       "      <td>Парма Вань</td>\n",
       "      <td>Висьт</td>\n",
       "      <td></td>\n",
       "      <td>Винегрет (2011)</td>\n",
       "      <td>\\n\\nА КОМИЯСЫС МЕДСЮСЬӦСЬ\\n\\nКлуб дорын кино в...</td>\n",
       "    </tr>\n",
       "    <tr>\n",
       "      <th>2</th>\n",
       "      <td>https://komikyv.org//kpv/node/30420</td>\n",
       "      <td>А поезд мунӧ...</td>\n",
       "      <td>Афанасьев Евгений</td>\n",
       "      <td>Висьт</td>\n",
       "      <td></td>\n",
       "      <td>Войвыв кодзув (1999 №7)</td>\n",
       "      <td>\\n\\nА ПОЕЗД МУНӦ...\\n\\nКольӧм гожӧмӧ ас чужан ...</td>\n",
       "    </tr>\n",
       "    <tr>\n",
       "      <th>3</th>\n",
       "      <td>https://komikyv.org//kpv/node/32723</td>\n",
       "      <td>Абу йӧй</td>\n",
       "      <td>Лодыгин Василий</td>\n",
       "      <td>Мойд</td>\n",
       "      <td></td>\n",
       "      <td>Паса шор (1995)</td>\n",
       "      <td>\\n\\nАБУ ЙӦЙ\\n\\nКатшалы, югыд синъяснас потшӧс ...</td>\n",
       "    </tr>\n",
       "    <tr>\n",
       "      <th>4</th>\n",
       "      <td>https://komikyv.org//kpv/contents/abu-moyd-zbyl</td>\n",
       "      <td>Абу мойд, а збыль</td>\n",
       "      <td>Коданёв Иван</td>\n",
       "      <td>Висьт</td>\n",
       "      <td></td>\n",
       "      <td>Ягъяслӧн йӧлӧга шы (1984)</td>\n",
       "      <td>\\n\\nАБУ МОЙД, А ЗБЫЛЬ\\n\\nКор поезд воис Эжваӧ,...</td>\n",
       "    </tr>\n",
       "  </tbody>\n",
       "</table>\n",
       "</div>"
      ],
      "text/plain": [
       "                                                link                  title  \\\n",
       "0  https://komikyv.org//kpv/content/%D0%B0-%D0%B2...   А вӧрыс ыпъялӧ-сотчӧ   \n",
       "1  https://komikyv.org//kpv/content/%D0%B0-%D0%BA...  А комиясыд медсюсьӧсь   \n",
       "2                https://komikyv.org//kpv/node/30420        А поезд мунӧ...   \n",
       "3                https://komikyv.org//kpv/node/32723                Абу йӧй   \n",
       "4    https://komikyv.org//kpv/contents/abu-moyd-zbyl      Абу мойд, а збыль   \n",
       "\n",
       "              author  genre      place                          source  \\\n",
       "0         Белых Иван  Висьт  Сыктывкар  Важыс уськӧдчывлӧ вӧтӧн (2005)   \n",
       "1         Парма Вань  Висьт                            Винегрет (2011)   \n",
       "2  Афанасьев Евгений  Висьт                    Войвыв кодзув (1999 №7)   \n",
       "3    Лодыгин Василий   Мойд                            Паса шор (1995)   \n",
       "4       Коданёв Иван  Висьт                  Ягъяслӧн йӧлӧга шы (1984)   \n",
       "\n",
       "                                                text  \n",
       "0  \\n\\nА ВӦРЫС ЫПЪЯЛӦ-СОТЧӦ\\n\\n\\t \\n\\n\\tКолӧ жӧ в...  \n",
       "1  \\n\\nА КОМИЯСЫС МЕДСЮСЬӦСЬ\\n\\nКлуб дорын кино в...  \n",
       "2  \\n\\nА ПОЕЗД МУНӦ...\\n\\nКольӧм гожӧмӧ ас чужан ...  \n",
       "3  \\n\\nАБУ ЙӦЙ\\n\\nКатшалы, югыд синъяснас потшӧс ...  \n",
       "4  \\n\\nАБУ МОЙД, А ЗБЫЛЬ\\n\\nКор поезд воис Эжваӧ,...  "
      ]
     },
     "execution_count": 161,
     "metadata": {},
     "output_type": "execute_result"
    }
   ],
   "source": [
    "df = pd.read_json(r\"komi\\proza_texts.json\", encoding=\"UTF-8\")\n",
    "df.head()"
   ]
  },
  {
   "cell_type": "code",
   "execution_count": 163,
   "metadata": {
    "colab": {
     "base_uri": "https://localhost:8080/"
    },
    "id": "w0kIPczsc23R",
    "outputId": "5d5ff32d-fa12-499e-e3a7-e7cc5a222f39"
   },
   "outputs": [
    {
     "name": "stdout",
     "output_type": "stream",
     "text": [
      "(1929, 8)\n"
     ]
    },
    {
     "data": {
      "text/plain": [
       "(1872, 8)"
      ]
     },
     "execution_count": 163,
     "metadata": {},
     "output_type": "execute_result"
    }
   ],
   "source": [
    "# рассматриваем только тексты больше 100 слов, потому что есть такая статья Громов, ... ....\n",
    "\n",
    "print(df.shape)\n",
    "df['words'] = df['text'].apply(lambda x: len(x.split()))\n",
    "prose_texts = df[df['words'] > 100]\n",
    "prose_texts.shape"
   ]
  },
  {
   "cell_type": "code",
   "execution_count": 164,
   "metadata": {},
   "outputs": [],
   "source": [
    "prose_texts.to_csv(\"long_prose_texts.csv\", index=False, encoding='utf-8')"
   ]
  },
  {
   "cell_type": "markdown",
   "metadata": {
    "id": "pYTCu9t6huII"
   },
   "source": [
    "## Раздел Драма"
   ]
  },
  {
   "cell_type": "code",
   "execution_count": null,
   "metadata": {
    "colab": {
     "base_uri": "https://localhost:8080/"
    },
    "id": "XONUcFYUc56G",
    "outputId": "a429f1d1-97ac-44ba-c5d9-ffce551db1e5"
   },
   "outputs": [
    {
     "data": {
      "text/plain": [
       "60"
      ]
     },
     "execution_count": 373,
     "metadata": {},
     "output_type": "execute_result"
    }
   ],
   "source": [
    "drama_first_link = 'https://komikyv.org/kpv/library?field_category_tid_1=Драма&field_perevodl_tid=Нет'\n",
    "drama_links = GetTextLinks(drama_first_link)\n",
    "len(drama_links)"
   ]
  },
  {
   "cell_type": "code",
   "execution_count": null,
   "metadata": {
    "id": "n4q9ul8aYlIQ"
   },
   "outputs": [],
   "source": [
    "with open('drama_links.txt', 'w', encoding='utf-8') as file:\n",
    "    file.write('\\n'.join(drama_links))"
   ]
  },
  {
   "cell_type": "code",
   "execution_count": null,
   "metadata": {
    "colab": {
     "base_uri": "https://localhost:8080/"
    },
    "id": "v45MJ2bwfksF",
    "outputId": "8e8a916e-de3b-4d34-ea1d-65e981a237da"
   },
   "outputs": [
    {
     "name": "stderr",
     "output_type": "stream",
     "text": [
      "100%|██████████| 60/60 [00:21<00:00,  2.80it/s]\n"
     ]
    }
   ],
   "source": [
    "drama_dicts = GetTexts(drama_links)"
   ]
  },
  {
   "cell_type": "code",
   "execution_count": null,
   "metadata": {
    "id": "TI9fmCy8gPCX"
   },
   "outputs": [],
   "source": [
    "with open('drama_texts.json', 'w') as file:\n",
    "    json.dump(drama_dicts, file, ensure_ascii=False)"
   ]
  },
  {
   "cell_type": "code",
   "execution_count": 158,
   "metadata": {
    "colab": {
     "base_uri": "https://localhost:8080/",
     "height": 206
    },
    "id": "Jd4wdhh6uZ6C",
    "outputId": "98a55f4c-4e47-43b0-d912-737cc040d356"
   },
   "outputs": [
    {
     "data": {
      "text/html": [
       "<div>\n",
       "<style scoped>\n",
       "    .dataframe tbody tr th:only-of-type {\n",
       "        vertical-align: middle;\n",
       "    }\n",
       "\n",
       "    .dataframe tbody tr th {\n",
       "        vertical-align: top;\n",
       "    }\n",
       "\n",
       "    .dataframe thead th {\n",
       "        text-align: right;\n",
       "    }\n",
       "</style>\n",
       "<table border=\"1\" class=\"dataframe\">\n",
       "  <thead>\n",
       "    <tr style=\"text-align: right;\">\n",
       "      <th></th>\n",
       "      <th>link</th>\n",
       "      <th>title</th>\n",
       "      <th>author</th>\n",
       "      <th>genre</th>\n",
       "      <th>place</th>\n",
       "      <th>source</th>\n",
       "      <th>text</th>\n",
       "    </tr>\n",
       "  </thead>\n",
       "  <tbody>\n",
       "    <tr>\n",
       "      <th>0</th>\n",
       "      <td>https://komikyv.org//kpv/node/31394</td>\n",
       "      <td>Августын</td>\n",
       "      <td>Козлова Елена</td>\n",
       "      <td>Ӧти юкӧна пьеса</td>\n",
       "      <td></td>\n",
       "      <td>Войвыв кодзув (1988. № 2)</td>\n",
       "      <td>\\n\\nАВГУСТЫН\\n\\nВорсысьяс:\\nКостромин Михаил В...</td>\n",
       "    </tr>\n",
       "    <tr>\n",
       "      <th>1</th>\n",
       "      <td>https://komikyv.org//kpv/node/31006</td>\n",
       "      <td>Арт</td>\n",
       "      <td>Нёбдінса Виттор</td>\n",
       "      <td>Ворсантор</td>\n",
       "      <td></td>\n",
       "      <td>Вабергач (1982)</td>\n",
       "      <td>\\n\\nАРТ\\nӦти торъя ворсантор\\n\\nЙӧз:\\n\\nВӧрпро...</td>\n",
       "    </tr>\n",
       "    <tr>\n",
       "      <th>2</th>\n",
       "      <td>https://komikyv.org//kpv/node/36070</td>\n",
       "      <td>Бурань</td>\n",
       "      <td>Лебедев Михаил</td>\n",
       "      <td>Сьылӧмӧн ворсантор</td>\n",
       "      <td></td>\n",
       "      <td>Ордым (1929 № 1)</td>\n",
       "      <td>\\n\\nБУРАНЬ\\nСьылӧмӧн ворсантор важ коми йӧз ол...</td>\n",
       "    </tr>\n",
       "    <tr>\n",
       "      <th>3</th>\n",
       "      <td>https://komikyv.org//kpv/node/39996</td>\n",
       "      <td>Бушкола вояс</td>\n",
       "      <td>Иливапыс</td>\n",
       "      <td>Пьеса</td>\n",
       "      <td></td>\n",
       "      <td>Бӧрйӧм гижӧдъяс (2009)</td>\n",
       "      <td>\\n\\nБУШКОЛА ВОЯС\\n\\nДЕЙСТВУЙТӦНЫ:\\n\\nАндрей Ул...</td>\n",
       "    </tr>\n",
       "    <tr>\n",
       "      <th>4</th>\n",
       "      <td>https://komikyv.org//kpv/node/31001</td>\n",
       "      <td>Ва шыр</td>\n",
       "      <td>Нёбдінса Виттор</td>\n",
       "      <td>Теш</td>\n",
       "      <td></td>\n",
       "      <td>Вабергач (1982)</td>\n",
       "      <td>\\n\\nВА ШЫР\\nКык торъя теш\\n\\nЙӧз:\\n\\nОТЕЧ ТАРА...</td>\n",
       "    </tr>\n",
       "  </tbody>\n",
       "</table>\n",
       "</div>"
      ],
      "text/plain": [
       "                                  link         title           author  \\\n",
       "0  https://komikyv.org//kpv/node/31394      Августын    Козлова Елена   \n",
       "1  https://komikyv.org//kpv/node/31006           Арт  Нёбдінса Виттор   \n",
       "2  https://komikyv.org//kpv/node/36070        Бурань   Лебедев Михаил   \n",
       "3  https://komikyv.org//kpv/node/39996  Бушкола вояс         Иливапыс   \n",
       "4  https://komikyv.org//kpv/node/31001        Ва шыр  Нёбдінса Виттор   \n",
       "\n",
       "                genre place                     source  \\\n",
       "0     Ӧти юкӧна пьеса        Войвыв кодзув (1988. № 2)   \n",
       "1           Ворсантор                  Вабергач (1982)   \n",
       "2  Сьылӧмӧн ворсантор                 Ордым (1929 № 1)   \n",
       "3               Пьеса           Бӧрйӧм гижӧдъяс (2009)   \n",
       "4                 Теш                  Вабергач (1982)   \n",
       "\n",
       "                                                text  \n",
       "0  \\n\\nАВГУСТЫН\\n\\nВорсысьяс:\\nКостромин Михаил В...  \n",
       "1  \\n\\nАРТ\\nӦти торъя ворсантор\\n\\nЙӧз:\\n\\nВӧрпро...  \n",
       "2  \\n\\nБУРАНЬ\\nСьылӧмӧн ворсантор важ коми йӧз ол...  \n",
       "3  \\n\\nБУШКОЛА ВОЯС\\n\\nДЕЙСТВУЙТӦНЫ:\\n\\nАндрей Ул...  \n",
       "4  \\n\\nВА ШЫР\\nКык торъя теш\\n\\nЙӧз:\\n\\nОТЕЧ ТАРА...  "
      ]
     },
     "execution_count": 158,
     "metadata": {},
     "output_type": "execute_result"
    }
   ],
   "source": [
    "df = pd.read_json(r\"komi\\drama_texts.json\", encoding=\"UTF-8\")\n",
    "df.head()"
   ]
  },
  {
   "cell_type": "code",
   "execution_count": 159,
   "metadata": {
    "colab": {
     "base_uri": "https://localhost:8080/"
    },
    "id": "CYfaWoWihZYs",
    "outputId": "7c3931b6-68b9-4d68-ebd4-90202c3a9bcd"
   },
   "outputs": [
    {
     "name": "stdout",
     "output_type": "stream",
     "text": [
      "(60, 7)\n"
     ]
    },
    {
     "data": {
      "text/plain": [
       "(59, 8)"
      ]
     },
     "execution_count": 159,
     "metadata": {},
     "output_type": "execute_result"
    }
   ],
   "source": [
    "# рассматриваем только тексты больше 100 слов, потому что есть такая статья Громов, ... ....\n",
    "\n",
    "print(df.shape)\n",
    "df['words'] = df['text'].apply(lambda x: len(x.split()))\n",
    "drama_texts = df[df['words'] > 100]\n",
    "drama_texts.shape"
   ]
  },
  {
   "cell_type": "code",
   "execution_count": 160,
   "metadata": {},
   "outputs": [],
   "source": [
    "drama_texts.to_csv(\"long_drama_texts.csv\", index=False, encoding='utf-8')"
   ]
  },
  {
   "cell_type": "markdown",
   "metadata": {
    "id": "iqRzM7vgidOz"
   },
   "source": [
    "## Раздел Фольклор"
   ]
  },
  {
   "cell_type": "code",
   "execution_count": null,
   "metadata": {
    "colab": {
     "base_uri": "https://localhost:8080/"
    },
    "id": "3KfNr8CCidOz",
    "outputId": "ad22225d-5a62-481d-8ab5-e097732bf3cf"
   },
   "outputs": [
    {
     "data": {
      "text/plain": [
       "423"
      ]
     },
     "execution_count": 392,
     "metadata": {},
     "output_type": "execute_result"
    }
   ],
   "source": [
    "folklore_first_link = 'https://komikyv.org/kpv/library?field_category_tid_1=Фольклор&field_perevodl_tid=Нет'\n",
    "folklore_links = GetTextLinks(folklore_first_link)\n",
    "len(folklore_links)"
   ]
  },
  {
   "cell_type": "code",
   "execution_count": null,
   "metadata": {
    "id": "uGnn0t-0idOz"
   },
   "outputs": [],
   "source": [
    "with open('folklore_links.txt', 'w', encoding='utf-8') as file:\n",
    "    file.write('\\n'.join(folklore_links))"
   ]
  },
  {
   "cell_type": "code",
   "execution_count": null,
   "metadata": {
    "colab": {
     "base_uri": "https://localhost:8080/"
    },
    "id": "kiqpTy73idO0",
    "outputId": "1db83a52-3be2-41e2-a42e-4bcd6c26ee0e"
   },
   "outputs": [
    {
     "name": "stderr",
     "output_type": "stream",
     "text": [
      "100%|██████████| 423/423 [01:11<00:00,  5.92it/s]\n"
     ]
    }
   ],
   "source": [
    "folklore_dicts = GetTexts(folklore_links)"
   ]
  },
  {
   "cell_type": "code",
   "execution_count": null,
   "metadata": {
    "id": "0kn7w9PNidO0"
   },
   "outputs": [],
   "source": [
    "with open('folklore_texts.json', 'w') as file:\n",
    "    json.dump(folklore_dicts, file, ensure_ascii=False)"
   ]
  },
  {
   "cell_type": "code",
   "execution_count": 155,
   "metadata": {},
   "outputs": [
    {
     "data": {
      "text/html": [
       "<div>\n",
       "<style scoped>\n",
       "    .dataframe tbody tr th:only-of-type {\n",
       "        vertical-align: middle;\n",
       "    }\n",
       "\n",
       "    .dataframe tbody tr th {\n",
       "        vertical-align: top;\n",
       "    }\n",
       "\n",
       "    .dataframe thead th {\n",
       "        text-align: right;\n",
       "    }\n",
       "</style>\n",
       "<table border=\"1\" class=\"dataframe\">\n",
       "  <thead>\n",
       "    <tr style=\"text-align: right;\">\n",
       "      <th></th>\n",
       "      <th>link</th>\n",
       "      <th>title</th>\n",
       "      <th>author</th>\n",
       "      <th>genre</th>\n",
       "      <th>place</th>\n",
       "      <th>source</th>\n",
       "      <th>text</th>\n",
       "    </tr>\n",
       "  </thead>\n",
       "  <tbody>\n",
       "    <tr>\n",
       "      <th>0</th>\n",
       "      <td>https://komikyv.org//kpv/node/35602</td>\n",
       "      <td>Айлы</td>\n",
       "      <td></td>\n",
       "      <td>Бӧрдкыв</td>\n",
       "      <td></td>\n",
       "      <td>Зырянскій край при епископахъ Пермскихъ и Зыря...</td>\n",
       "      <td>\\n\\nАЙЛЫ\\n\\nЮгыд шондіӧй, айӧй!\\nВердысь-удысь...</td>\n",
       "    </tr>\n",
       "    <tr>\n",
       "      <th>1</th>\n",
       "      <td>https://komikyv.org//kpv/content/%D0%B0%D0%BB%...</td>\n",
       "      <td>Алӧй ленточка</td>\n",
       "      <td></td>\n",
       "      <td>Сьыланкыв</td>\n",
       "      <td></td>\n",
       "      <td>Войвыв кодзув (1993 № 3-4)</td>\n",
       "      <td>\\nАЛӦЙ ЛЕНТОЧКА\\n\\nМенам вӧлі алӧй ленточка,\\n...</td>\n",
       "    </tr>\n",
       "    <tr>\n",
       "      <th>2</th>\n",
       "      <td>https://komikyv.org//kpv/node/30219</td>\n",
       "      <td>Аральӧ-пӧльӧ</td>\n",
       "      <td></td>\n",
       "      <td>Мойд</td>\n",
       "      <td>Лымва</td>\n",
       "      <td>Коми мойдъяс (1991)</td>\n",
       "      <td>\\n\\nАРАЛЬӦ-ПӦЛЬӦ\\nВажӧн вӧлі старик гозъя. Нал...</td>\n",
       "    </tr>\n",
       "    <tr>\n",
       "      <th>3</th>\n",
       "      <td>https://komikyv.org//kpv/node/30218</td>\n",
       "      <td>Арӧй Дрӧй</td>\n",
       "      <td></td>\n",
       "      <td>Мойд</td>\n",
       "      <td>Вомын</td>\n",
       "      <td>Коми мойдъяс (1991)</td>\n",
       "      <td>\\n\\nАРӦЙ ДРӦЙ\\nОлісны-вылісны крестьянин гозъя...</td>\n",
       "    </tr>\n",
       "    <tr>\n",
       "      <th>4</th>\n",
       "      <td>https://komikyv.org//kpv/node/30208</td>\n",
       "      <td>Арсень да чӧртъяс</td>\n",
       "      <td></td>\n",
       "      <td>Мойд</td>\n",
       "      <td>Вомынбӧж</td>\n",
       "      <td>Коми мойдъяс (1991)</td>\n",
       "      <td>\\n\\nАРСЕНЬ ДА ЧӦРТЪЯС\\nВажӧн ӧти сиктын чукӧрт...</td>\n",
       "    </tr>\n",
       "  </tbody>\n",
       "</table>\n",
       "</div>"
      ],
      "text/plain": [
       "                                                link              title  \\\n",
       "0                https://komikyv.org//kpv/node/35602               Айлы   \n",
       "1  https://komikyv.org//kpv/content/%D0%B0%D0%BB%...      Алӧй ленточка   \n",
       "2                https://komikyv.org//kpv/node/30219       Аральӧ-пӧльӧ   \n",
       "3                https://komikyv.org//kpv/node/30218          Арӧй Дрӧй   \n",
       "4                https://komikyv.org//kpv/node/30208  Арсень да чӧртъяс   \n",
       "\n",
       "  author      genre     place  \\\n",
       "0           Бӧрдкыв             \n",
       "1         Сьыланкыв             \n",
       "2              Мойд     Лымва   \n",
       "3              Мойд     Вомын   \n",
       "4              Мойд  Вомынбӧж   \n",
       "\n",
       "                                              source  \\\n",
       "0  Зырянскій край при епископахъ Пермскихъ и Зыря...   \n",
       "1                         Войвыв кодзув (1993 № 3-4)   \n",
       "2                                Коми мойдъяс (1991)   \n",
       "3                                Коми мойдъяс (1991)   \n",
       "4                                Коми мойдъяс (1991)   \n",
       "\n",
       "                                                text  \n",
       "0  \\n\\nАЙЛЫ\\n\\nЮгыд шондіӧй, айӧй!\\nВердысь-удысь...  \n",
       "1  \\nАЛӦЙ ЛЕНТОЧКА\\n\\nМенам вӧлі алӧй ленточка,\\n...  \n",
       "2  \\n\\nАРАЛЬӦ-ПӦЛЬӦ\\nВажӧн вӧлі старик гозъя. Нал...  \n",
       "3  \\n\\nАРӦЙ ДРӦЙ\\nОлісны-вылісны крестьянин гозъя...  \n",
       "4  \\n\\nАРСЕНЬ ДА ЧӦРТЪЯС\\nВажӧн ӧти сиктын чукӧрт...  "
      ]
     },
     "execution_count": 155,
     "metadata": {},
     "output_type": "execute_result"
    }
   ],
   "source": [
    "df = pd.read_json(r\"komi\\folklore_texts.json\", encoding=\"UTF-8\")\n",
    "df.head()"
   ]
  },
  {
   "cell_type": "code",
   "execution_count": 156,
   "metadata": {
    "colab": {
     "base_uri": "https://localhost:8080/"
    },
    "id": "aP0AgQxyidO0",
    "outputId": "d65ba552-5939-4eed-d2ce-e3d62d72296f"
   },
   "outputs": [
    {
     "name": "stdout",
     "output_type": "stream",
     "text": [
      "(423, 7)\n"
     ]
    },
    {
     "data": {
      "text/plain": [
       "(284, 8)"
      ]
     },
     "execution_count": 156,
     "metadata": {},
     "output_type": "execute_result"
    }
   ],
   "source": [
    "# рассматриваем только тексты больше 100 слов, потому что есть такая статья Громов, ... ....\n",
    "\n",
    "print(df.shape)\n",
    "df['words'] = df['text'].apply(lambda x: len(x.split()))\n",
    "folklore_texts = df[df['words'] > 100]\n",
    "folklore_texts.shape"
   ]
  },
  {
   "cell_type": "code",
   "execution_count": 157,
   "metadata": {},
   "outputs": [],
   "source": [
    "folklore_texts.to_csv(\"long_folklore_texts.csv\", index=False, encoding='utf-8')"
   ]
  },
  {
   "cell_type": "markdown",
   "metadata": {
    "id": "esdwuWCUjvcv"
   },
   "source": [
    "## Раздел Поэзия"
   ]
  },
  {
   "cell_type": "code",
   "execution_count": null,
   "metadata": {
    "colab": {
     "base_uri": "https://localhost:8080/"
    },
    "id": "nbkG99z8jvcv",
    "outputId": "d5a0e893-54eb-4776-9990-0c7c9f380d69"
   },
   "outputs": [
    {
     "data": {
      "text/plain": [
       "7673"
      ]
     },
     "execution_count": 5,
     "metadata": {},
     "output_type": "execute_result"
    }
   ],
   "source": [
    "poetry_first_link = 'https://komikyv.org/kpv/library?field_category_tid_1=Поэзия&field_perevodl_tid=Нет'\n",
    "poetry_links = GetTextLinks(poetry_first_link)\n",
    "len(poetry_links)"
   ]
  },
  {
   "cell_type": "code",
   "execution_count": null,
   "metadata": {
    "id": "cAygNJU8jvcw"
   },
   "outputs": [],
   "source": [
    "with open('poetry_links.txt', 'w', encoding='utf-8') as file:\n",
    "    file.write('\\n'.join(poetry_links))"
   ]
  },
  {
   "cell_type": "code",
   "execution_count": null,
   "metadata": {
    "colab": {
     "base_uri": "https://localhost:8080/"
    },
    "id": "0J_ZME2Ujvcw",
    "outputId": "43907970-66c5-4b8c-9961-2c1247ebc60a"
   },
   "outputs": [
    {
     "name": "stderr",
     "output_type": "stream",
     "text": [
      "100%|██████████| 7673/7673 [35:17<00:00,  3.62it/s]\n"
     ]
    }
   ],
   "source": [
    "poetry_dicts = GetTexts(poetry_links)"
   ]
  },
  {
   "cell_type": "code",
   "execution_count": null,
   "metadata": {
    "id": "SOVIZx2njvcw"
   },
   "outputs": [],
   "source": [
    "with open('poetry_texts.json', 'w') as file:\n",
    "    json.dump(poetry_dicts, file, ensure_ascii=False)"
   ]
  },
  {
   "cell_type": "code",
   "execution_count": 150,
   "metadata": {},
   "outputs": [],
   "source": [
    "df = pd.read_json(r\"komi\\poetry_texts.json\", encoding=\"UTF-8\")"
   ]
  },
  {
   "cell_type": "code",
   "execution_count": 151,
   "metadata": {
    "colab": {
     "base_uri": "https://localhost:8080/",
     "height": 206
    },
    "id": "7XiG17kFjvcw",
    "outputId": "cfadd6d1-3e53-40eb-edf8-d217e77fc139"
   },
   "outputs": [
    {
     "data": {
      "text/html": [
       "<div>\n",
       "<style scoped>\n",
       "    .dataframe tbody tr th:only-of-type {\n",
       "        vertical-align: middle;\n",
       "    }\n",
       "\n",
       "    .dataframe tbody tr th {\n",
       "        vertical-align: top;\n",
       "    }\n",
       "\n",
       "    .dataframe thead th {\n",
       "        text-align: right;\n",
       "    }\n",
       "</style>\n",
       "<table border=\"1\" class=\"dataframe\">\n",
       "  <thead>\n",
       "    <tr style=\"text-align: right;\">\n",
       "      <th></th>\n",
       "      <th>link</th>\n",
       "      <th>title</th>\n",
       "      <th>author</th>\n",
       "      <th>genre</th>\n",
       "      <th>place</th>\n",
       "      <th>source</th>\n",
       "      <th>text</th>\n",
       "    </tr>\n",
       "  </thead>\n",
       "  <tbody>\n",
       "    <tr>\n",
       "      <th>0</th>\n",
       "      <td>https://komikyv.org//kpv/node/40865</td>\n",
       "      <td>\"А кор ывлаыс ланьтас...\"</td>\n",
       "      <td>Касеева Клавдия</td>\n",
       "      <td>Кывбур</td>\n",
       "      <td></td>\n",
       "      <td>Вын (2022)</td>\n",
       "      <td>\\n\\n* * *\\n\\nА кор ывлаыс ланьтас\\nДа сынӧдас ...</td>\n",
       "    </tr>\n",
       "    <tr>\n",
       "      <th>1</th>\n",
       "      <td>https://komikyv.org//kpv/node/40846</td>\n",
       "      <td>\"бабъяс печкӧны...\"</td>\n",
       "      <td>Касеева Клавдия</td>\n",
       "      <td>Кывбур</td>\n",
       "      <td></td>\n",
       "      <td>Вын (2022)</td>\n",
       "      <td>\\n\\n* * *\\n\\nбабъяс печкӧны\\nолӧм вурун.\\nстав...</td>\n",
       "    </tr>\n",
       "    <tr>\n",
       "      <th>2</th>\n",
       "      <td>https://komikyv.org//kpv/node/40965</td>\n",
       "      <td>\"Босьт, шуӧ, гезсӧ да лок...\"</td>\n",
       "      <td>Карманова Ксения</td>\n",
       "      <td>Кывбур</td>\n",
       "      <td></td>\n",
       "      <td>Вын (2022)</td>\n",
       "      <td>\\n\\n* * *\\n\\nБосьт, шуӧ, гезсӧ да лок,\\nТэнад ...</td>\n",
       "    </tr>\n",
       "    <tr>\n",
       "      <th>3</th>\n",
       "      <td>https://komikyv.org//kpv/node/40835</td>\n",
       "      <td>\"Быттьӧ кытчӧ он видзӧдлы...\"</td>\n",
       "      <td>Касеева Клавдия</td>\n",
       "      <td>Кывбур</td>\n",
       "      <td></td>\n",
       "      <td>Вын (2022)</td>\n",
       "      <td>\\n\\n* * *\\n\\nБыттьӧ кытчӧ он видзӧдлы —\\nГӧгӧр...</td>\n",
       "    </tr>\n",
       "    <tr>\n",
       "      <th>4</th>\n",
       "      <td>https://komikyv.org//kpv/node/40967</td>\n",
       "      <td>\"Войся пемыд енэжын ӧтка кодзув...\"</td>\n",
       "      <td>Карманова Ксения</td>\n",
       "      <td>Кывбур</td>\n",
       "      <td></td>\n",
       "      <td>Вын (2022)</td>\n",
       "      <td>\\n\\n* * *\\n\\nВойся пемыд енэжын ӧтка кодзув......</td>\n",
       "    </tr>\n",
       "  </tbody>\n",
       "</table>\n",
       "</div>"
      ],
      "text/plain": [
       "                                  link                                title  \\\n",
       "0  https://komikyv.org//kpv/node/40865            \"А кор ывлаыс ланьтас...\"   \n",
       "1  https://komikyv.org//kpv/node/40846                  \"бабъяс печкӧны...\"   \n",
       "2  https://komikyv.org//kpv/node/40965        \"Босьт, шуӧ, гезсӧ да лок...\"   \n",
       "3  https://komikyv.org//kpv/node/40835        \"Быттьӧ кытчӧ он видзӧдлы...\"   \n",
       "4  https://komikyv.org//kpv/node/40967  \"Войся пемыд енэжын ӧтка кодзув...\"   \n",
       "\n",
       "             author   genre place      source  \\\n",
       "0   Касеева Клавдия  Кывбур        Вын (2022)   \n",
       "1   Касеева Клавдия  Кывбур        Вын (2022)   \n",
       "2  Карманова Ксения  Кывбур        Вын (2022)   \n",
       "3   Касеева Клавдия  Кывбур        Вын (2022)   \n",
       "4  Карманова Ксения  Кывбур        Вын (2022)   \n",
       "\n",
       "                                                text  \n",
       "0  \\n\\n* * *\\n\\nА кор ывлаыс ланьтас\\nДа сынӧдас ...  \n",
       "1  \\n\\n* * *\\n\\nбабъяс печкӧны\\nолӧм вурун.\\nстав...  \n",
       "2  \\n\\n* * *\\n\\nБосьт, шуӧ, гезсӧ да лок,\\nТэнад ...  \n",
       "3  \\n\\n* * *\\n\\nБыттьӧ кытчӧ он видзӧдлы —\\nГӧгӧр...  \n",
       "4  \\n\\n* * *\\n\\nВойся пемыд енэжын ӧтка кодзув......  "
      ]
     },
     "execution_count": 151,
     "metadata": {},
     "output_type": "execute_result"
    }
   ],
   "source": [
    "df.head()"
   ]
  },
  {
   "cell_type": "code",
   "execution_count": 152,
   "metadata": {
    "colab": {
     "base_uri": "https://localhost:8080/"
    },
    "id": "lU-b4_LBjvcw",
    "outputId": "788cd545-bb53-4500-fcf5-556ed2ddebac"
   },
   "outputs": [
    {
     "name": "stdout",
     "output_type": "stream",
     "text": [
      "(7673, 7)\n"
     ]
    },
    {
     "data": {
      "text/plain": [
       "(1999, 8)"
      ]
     },
     "execution_count": 152,
     "metadata": {},
     "output_type": "execute_result"
    }
   ],
   "source": [
    "# рассматриваем только тексты больше 100 слов, потому что есть такая статья Громов, ... ....\n",
    "\n",
    "print(df.shape)\n",
    "df['words'] = df['text'].apply(lambda x: len(x.split()))\n",
    "poetry_texts = df[df['words'] > 100]\n",
    "poetry_texts.shape"
   ]
  },
  {
   "cell_type": "code",
   "execution_count": 153,
   "metadata": {},
   "outputs": [],
   "source": [
    "poetry_texts.to_csv(\"long_poetry_texts.csv\", index=False, encoding='utf-8')"
   ]
  },
  {
   "cell_type": "markdown",
   "metadata": {
    "id": "qaBHg-nCg6Xo"
   },
   "source": [
    "## Результаты"
   ]
  },
  {
   "cell_type": "markdown",
   "metadata": {
    "id": "OT8nD8tfgdPQ"
   },
   "source": [
    "* Проза: 1872\n",
    "* Драма: 59\n",
    "* Фольклор: 284\n",
    "* Поэзия: 1999\n",
    "\n",
    "Всего: 4214"
   ]
  },
  {
   "cell_type": "markdown",
   "metadata": {},
   "source": [
    "## Объединение коми текстов разных жанров в единый корпус"
   ]
  },
  {
   "cell_type": "code",
   "execution_count": 125,
   "metadata": {},
   "outputs": [],
   "source": [
    "import json\n",
    "\n",
    "\n",
    "with open(r\"komi\\poetry_texts.json\", encoding=\"UTF-8\") as file:\n",
    "    poetry_texts = json.load(file)\n",
    "\n",
    "with open(r\"komi\\drama_texts.json\", encoding=\"UTF-8\") as file:\n",
    "    drama_texts = json.load(file)\n",
    "\n",
    "with open(r\"komi\\proza_texts.json\", encoding=\"UTF-8\") as file:\n",
    "    proza_texts = json.load(file)\n",
    "\n",
    "with open(r\"komi\\folklore_texts.json\", encoding=\"UTF-8\") as file:\n",
    "    folklore_texts = json.load(file)"
   ]
  },
  {
   "cell_type": "code",
   "execution_count": 168,
   "metadata": {},
   "outputs": [],
   "source": [
    "import pandas as pd\n",
    "\n",
    "poetry_texts_df = pd.read_csv(r\"komi\\long_poetry_texts.csv\", encoding=\"UTF-8\")\n",
    "poetry_texts_df[\"genre_wider\"] = \"poetry\"\n",
    "\n",
    "drama_texts_df = pd.read_csv(r\"komi\\long_drama_texts.csv\", encoding=\"UTF-8\")\n",
    "drama_texts_df[\"genre_wider\"] = \"drama\"\n",
    "\n",
    "prose_texts_df = pd.read_csv(r\"komi\\long_prose_texts.csv\", encoding=\"UTF-8\")\n",
    "prose_texts_df[\"genre_wider\"] = \"prose\"\n",
    "\n",
    "folklore_texts_df = pd.read_csv(r\"komi\\long_folklore_texts.csv\", encoding=\"UTF-8\")\n",
    "folklore_texts_df[\"genre_wider\"] = \"folklore\""
   ]
  },
  {
   "cell_type": "code",
   "execution_count": 171,
   "metadata": {},
   "outputs": [
    {
     "data": {
      "text/html": [
       "<div>\n",
       "<style scoped>\n",
       "    .dataframe tbody tr th:only-of-type {\n",
       "        vertical-align: middle;\n",
       "    }\n",
       "\n",
       "    .dataframe tbody tr th {\n",
       "        vertical-align: top;\n",
       "    }\n",
       "\n",
       "    .dataframe thead th {\n",
       "        text-align: right;\n",
       "    }\n",
       "</style>\n",
       "<table border=\"1\" class=\"dataframe\">\n",
       "  <thead>\n",
       "    <tr style=\"text-align: right;\">\n",
       "      <th></th>\n",
       "      <th>link</th>\n",
       "      <th>title</th>\n",
       "      <th>author</th>\n",
       "      <th>genre</th>\n",
       "      <th>place</th>\n",
       "      <th>source</th>\n",
       "      <th>text</th>\n",
       "      <th>words</th>\n",
       "      <th>genre_wider</th>\n",
       "    </tr>\n",
       "  </thead>\n",
       "  <tbody>\n",
       "    <tr>\n",
       "      <th>0</th>\n",
       "      <td>https://komikyv.org//kpv/node/40856</td>\n",
       "      <td>\"Дзурк-дзурк, дзурки-дзурк...\"</td>\n",
       "      <td>Касеева Клавдия</td>\n",
       "      <td>Кывбур</td>\n",
       "      <td>NaN</td>\n",
       "      <td>Вын (2022)</td>\n",
       "      <td>\\n\\n* * *\\n\\nусьӧмаяслы, видзысьяслы да волысь...</td>\n",
       "      <td>148</td>\n",
       "      <td>poetry</td>\n",
       "    </tr>\n",
       "    <tr>\n",
       "      <th>1</th>\n",
       "      <td>https://komikyv.org//kpv/node/40830</td>\n",
       "      <td>\"катша-катша, китш-котш...\"</td>\n",
       "      <td>Касеева Клавдия</td>\n",
       "      <td>Кывбур</td>\n",
       "      <td>NaN</td>\n",
       "      <td>Вын (2022)</td>\n",
       "      <td>\\n\\n* * *\\n\\nкатша-катша, китш-котш,\\nтшӧті-ка...</td>\n",
       "      <td>108</td>\n",
       "      <td>poetry</td>\n",
       "    </tr>\n",
       "    <tr>\n",
       "      <th>2</th>\n",
       "      <td>https://komikyv.org//kpv/node/40990</td>\n",
       "      <td>\"Став сьӧлӧмсянь кӧсъя, мед быдӧнлы нимкодя ов...</td>\n",
       "      <td>Карманова Ксения</td>\n",
       "      <td>Кывбур</td>\n",
       "      <td>NaN</td>\n",
       "      <td>Войвыв кодзув (2020. №3)</td>\n",
       "      <td>\\n\\n* * *\\n\\nСтав сьӧлӧмсянь кӧсъя, мед быдӧнл...</td>\n",
       "      <td>111</td>\n",
       "      <td>poetry</td>\n",
       "    </tr>\n",
       "    <tr>\n",
       "      <th>3</th>\n",
       "      <td>https://komikyv.org//kpv/node/40834</td>\n",
       "      <td>\"тан кодкӧ эм на...\"</td>\n",
       "      <td>Касеева Клавдия</td>\n",
       "      <td>Кывбур</td>\n",
       "      <td>NaN</td>\n",
       "      <td>Вын (2022)</td>\n",
       "      <td>\\n\\n* * *\\n\\n— тан кодкӧ эм на,\\nме кындзи?\\nм...</td>\n",
       "      <td>101</td>\n",
       "      <td>poetry</td>\n",
       "    </tr>\n",
       "    <tr>\n",
       "      <th>4</th>\n",
       "      <td>https://komikyv.org//kpv/node/40985</td>\n",
       "      <td>\"Тэ ставныскӧд ӧтлаын качӧдчин-лэбин...\"</td>\n",
       "      <td>Карманова Ксения</td>\n",
       "      <td>Кывбур</td>\n",
       "      <td>NaN</td>\n",
       "      <td>Вын (2022)</td>\n",
       "      <td>\\n\\n* * *\\n\\nТэ ставныскӧд ӧтлаын качӧдчин-лэб...</td>\n",
       "      <td>103</td>\n",
       "      <td>poetry</td>\n",
       "    </tr>\n",
       "  </tbody>\n",
       "</table>\n",
       "</div>"
      ],
      "text/plain": [
       "                                  link  \\\n",
       "0  https://komikyv.org//kpv/node/40856   \n",
       "1  https://komikyv.org//kpv/node/40830   \n",
       "2  https://komikyv.org//kpv/node/40990   \n",
       "3  https://komikyv.org//kpv/node/40834   \n",
       "4  https://komikyv.org//kpv/node/40985   \n",
       "\n",
       "                                               title            author  \\\n",
       "0                     \"Дзурк-дзурк, дзурки-дзурк...\"   Касеева Клавдия   \n",
       "1                        \"катша-катша, китш-котш...\"   Касеева Клавдия   \n",
       "2  \"Став сьӧлӧмсянь кӧсъя, мед быдӧнлы нимкодя ов...  Карманова Ксения   \n",
       "3                               \"тан кодкӧ эм на...\"   Касеева Клавдия   \n",
       "4           \"Тэ ставныскӧд ӧтлаын качӧдчин-лэбин...\"  Карманова Ксения   \n",
       "\n",
       "    genre place                    source  \\\n",
       "0  Кывбур   NaN                Вын (2022)   \n",
       "1  Кывбур   NaN                Вын (2022)   \n",
       "2  Кывбур   NaN  Войвыв кодзув (2020. №3)   \n",
       "3  Кывбур   NaN                Вын (2022)   \n",
       "4  Кывбур   NaN                Вын (2022)   \n",
       "\n",
       "                                                text  words genre_wider  \n",
       "0  \\n\\n* * *\\n\\nусьӧмаяслы, видзысьяслы да волысь...    148      poetry  \n",
       "1  \\n\\n* * *\\n\\nкатша-катша, китш-котш,\\nтшӧті-ка...    108      poetry  \n",
       "2  \\n\\n* * *\\n\\nСтав сьӧлӧмсянь кӧсъя, мед быдӧнл...    111      poetry  \n",
       "3  \\n\\n* * *\\n\\n— тан кодкӧ эм на,\\nме кындзи?\\nм...    101      poetry  \n",
       "4  \\n\\n* * *\\n\\nТэ ставныскӧд ӧтлаын качӧдчин-лэб...    103      poetry  "
      ]
     },
     "execution_count": 171,
     "metadata": {},
     "output_type": "execute_result"
    }
   ],
   "source": [
    "komi_fiction = pd.concat([poetry_texts_df, drama_texts_df, prose_texts_df, folklore_texts_df])\n",
    "komi_fiction.head()"
   ]
  },
  {
   "cell_type": "code",
   "execution_count": 173,
   "metadata": {},
   "outputs": [],
   "source": [
    "komi_fiction.to_csv(\"komi\\komi_fiction.csv\", index=False, encoding='utf-8')"
   ]
  },
  {
   "cell_type": "markdown",
   "metadata": {},
   "source": [
    "## Лемматизация и прочий морфологический анализ художественных коми текстов"
   ]
  },
  {
   "cell_type": "code",
   "execution_count": 83,
   "metadata": {},
   "outputs": [],
   "source": [
    "# !pip3 install uniparser-komi-zyrian"
   ]
  },
  {
   "cell_type": "code",
   "execution_count": 42,
   "metadata": {},
   "outputs": [
    {
     "name": "stderr",
     "output_type": "stream",
     "text": [
      "[nltk_data] Downloading package punkt to\n",
      "[nltk_data]     C:\\Users\\ttais\\AppData\\Roaming\\nltk_data...\n",
      "[nltk_data]   Package punkt is already up-to-date!\n"
     ]
    }
   ],
   "source": [
    "from string import punctuation\n",
    "punctuation += '«»—'\n",
    "\n",
    "import pandas as pd\n",
    "import nltk\n",
    "nltk.download('punkt')\n",
    "from nltk.tokenize import sent_tokenize\n",
    "from tqdm import tqdm\n",
    "tqdm.pandas()\n",
    "\n",
    "from uniparser_komi_zyrian import KomiZyrianAnalyzer"
   ]
  },
  {
   "cell_type": "code",
   "execution_count": 195,
   "metadata": {},
   "outputs": [],
   "source": [
    "a = KomiZyrianAnalyzer(mode='strict')"
   ]
  },
  {
   "cell_type": "code",
   "execution_count": 212,
   "metadata": {},
   "outputs": [
    {
     "data": {
      "text/plain": [
       "[<Wordform object>\n",
       " идрасис\n",
       " идравны; 3,V,pass,pass_ysj,pst,sg\n",
       " идра-с-ис\n",
       " STEM-PASS-PST.3SG\n",
       " trans_ru\tубрать (урожай),\n",
       " <Wordform object>\n",
       " идрасис\n",
       " идравны; 3,V,pass,pass_ysj,pst,sg,tr\n",
       " идра-с-ис\n",
       " STEM-PASS-PST.3SG\n",
       " trans_ru\tприбрать; обрядить; убрать (урожай)]"
      ]
     },
     "execution_count": 212,
     "metadata": {},
     "output_type": "execute_result"
    }
   ],
   "source": [
    "# для проверки анализа конкретных слов\n",
    "ana = a.analyze_words(\"Бабаыс идрасис горт гӧгӧр, Отсасис мужиклы ытшкыны, куртны.\".split())\n",
    "ana[1]"
   ]
  },
  {
   "cell_type": "code",
   "execution_count": 97,
   "metadata": {},
   "outputs": [],
   "source": [
    "def prepare_komi_text(text, a, punctuation):\n",
    "    sents_draft = text.split('...')\n",
    "    sents = []\n",
    "    for sent_draft in sents_draft:\n",
    "        sents.extend(sent_tokenize(sent_draft))\n",
    "    sents_prepared = []\n",
    "    for sent in sents:\n",
    "        punct_removed = []\n",
    "        for word in sent.split():\n",
    "            word = word.strip(punctuation)\n",
    "            if word:\n",
    "                punct_removed.append(word)\n",
    "        analyses = a.analyze_words(punct_removed)\n",
    "        pos_dict = {'NUM': '0', 'PRO': '1', 'APRO': '2', 'ADVPRO': '3', 'PN': '4'}\n",
    "        prepared = []\n",
    "        for ana in analyses:\n",
    "            wordform = ana[0].wf\n",
    "            lemma = ana[0].lemma\n",
    "            pos = ana[0].gramm.split(\",\")[0]\n",
    "            #if the word is a number, we replace it with token for NUM\n",
    "            if wordform.isdigit():\n",
    "                prepared.append('0')\n",
    "            #if the pos of the word is NUM, PRO, APRO, ADVPRO or PN\n",
    "            #(see gramm tags here https://komi-zyrian.web-corpora.net/)\n",
    "            #we replace it with the token\n",
    "            elif pos in pos_dict:\n",
    "                prepared.append(pos_dict[pos])\n",
    "            elif lemma != \"\":\n",
    "                #we replace word with its lemma\n",
    "                prepared.append(lemma)\n",
    "            else:\n",
    "                #we mark unrecognized wordforms\n",
    "                prepared.append('_' + wordform)\n",
    "        sents_prepared.append(\" \".join(prepared))\n",
    "    return \"\\n\".join(sents_prepared)"
   ]
  },
  {
   "cell_type": "code",
   "execution_count": 98,
   "metadata": {},
   "outputs": [],
   "source": [
    "komi_fiction_df = pd.read_csv(r\"komi\\komi_fiction.csv\", encoding=\"UTF-8\")"
   ]
  },
  {
   "cell_type": "code",
   "execution_count": 99,
   "metadata": {},
   "outputs": [
    {
     "name": "stderr",
     "output_type": "stream",
     "text": [
      "100%|██████████| 4214/4214 [1:17:26<00:00,  1.10s/it]  \n"
     ]
    }
   ],
   "source": [
    "komi_fiction_df['lemmas'] = komi_fiction_df['text'].progress_apply(lambda x: prepare_komi_text(x, a, punctuation))"
   ]
  },
  {
   "cell_type": "code",
   "execution_count": 100,
   "metadata": {},
   "outputs": [],
   "source": [
    "komi_fiction_df.to_csv(\"komi\\komi_fiction_prepared.csv\", index=False, encoding='utf-8')"
   ]
  },
  {
   "cell_type": "code",
   "execution_count": 104,
   "metadata": {},
   "outputs": [],
   "source": [
    "komi_fiction_df['unrecognized'] = komi_fiction_df['lemmas'].apply(lambda x: \" \".join([word for word in x.split() if \"_\" in word]))\n",
    "komi_fiction_df['lemmas_count'] = komi_fiction_df['lemmas'].apply(lambda x: len(x.split()))\n",
    "komi_fiction_df['unrecognized_count'] = komi_fiction_df['unrecognized'].apply(lambda x: len(x.split()))"
   ]
  },
  {
   "cell_type": "code",
   "execution_count": 102,
   "metadata": {},
   "outputs": [
    {
     "data": {
      "text/plain": [
       "4.64"
      ]
     },
     "execution_count": 102,
     "metadata": {},
     "output_type": "execute_result"
    }
   ],
   "source": [
    "# процент нераспознанных слов\n",
    "round(sum(komi_fiction_df['unrecognized_count']) / sum(komi_fiction_df['lemmas_count']) * 100, 2)"
   ]
  },
  {
   "cell_type": "markdown",
   "metadata": {},
   "source": [
    "## Извлечение текстов для проверки консультантом"
   ]
  },
  {
   "cell_type": "code",
   "execution_count": 185,
   "metadata": {},
   "outputs": [],
   "source": [
    "# print(komi_fiction_df.loc[2043, 'text'])\n",
    "# print(komi_fiction_df.loc[2043, 'lemmas'])"
   ]
  },
  {
   "cell_type": "code",
   "execution_count": 179,
   "metadata": {},
   "outputs": [
    {
     "data": {
      "text/html": [
       "<div>\n",
       "<style scoped>\n",
       "    .dataframe tbody tr th:only-of-type {\n",
       "        vertical-align: middle;\n",
       "    }\n",
       "\n",
       "    .dataframe tbody tr th {\n",
       "        vertical-align: top;\n",
       "    }\n",
       "\n",
       "    .dataframe thead th {\n",
       "        text-align: right;\n",
       "    }\n",
       "</style>\n",
       "<table border=\"1\" class=\"dataframe\">\n",
       "  <thead>\n",
       "    <tr style=\"text-align: right;\">\n",
       "      <th></th>\n",
       "      <th>link</th>\n",
       "      <th>title</th>\n",
       "      <th>author</th>\n",
       "      <th>genre</th>\n",
       "      <th>place</th>\n",
       "      <th>source</th>\n",
       "      <th>text</th>\n",
       "      <th>words</th>\n",
       "      <th>genre_wider</th>\n",
       "      <th>lemmas</th>\n",
       "      <th>unrecognized</th>\n",
       "      <th>lemmas_count</th>\n",
       "      <th>unrecognized_count</th>\n",
       "    </tr>\n",
       "  </thead>\n",
       "  <tbody>\n",
       "    <tr>\n",
       "      <th>2031</th>\n",
       "      <td>https://komikyv.org//kpv/node/31007</td>\n",
       "      <td>Моль</td>\n",
       "      <td>Нёбдінса Виттор</td>\n",
       "      <td>Ворсантор</td>\n",
       "      <td>NaN</td>\n",
       "      <td>Вабергач (1982)</td>\n",
       "      <td>\\n\\nМОЛЬ\\nӦти торъя ворсантор\\n\\nЙӧз:\\n\\nМИКАЙ...</td>\n",
       "      <td>3928</td>\n",
       "      <td>drama</td>\n",
       "      <td>моль 0 торъя ворсантор йӧз Микайлӧ ар 0 коммун...</td>\n",
       "      <td>_18–19 _комсомолеч _54–55 _30–32 _КРИСАН _ЛАБО...</td>\n",
       "      <td>3869</td>\n",
       "      <td>191</td>\n",
       "    </tr>\n",
       "    <tr>\n",
       "      <th>2039</th>\n",
       "      <td>https://komikyv.org//kpv/node/35465</td>\n",
       "      <td>Пемыд пармаын (Шыпича)</td>\n",
       "      <td>Сук Парма</td>\n",
       "      <td>Либретто</td>\n",
       "      <td>NaN</td>\n",
       "      <td>Тувсов кадын (1941)</td>\n",
       "      <td>\\n\\nПЕМЫД ПАРМАЫН\\n(Шыпича)\\n\\nВит серпаса дра...</td>\n",
       "      <td>7371</td>\n",
       "      <td>drama</td>\n",
       "      <td>пемыд парма шыпича 0 серпас драма ворсны 0\\nЯр...</td>\n",
       "      <td>_Шонді-Ныв _Шараф _КЫВВОДЗ _Анук _пӧдсӧн _Анук...</td>\n",
       "      <td>7213</td>\n",
       "      <td>182</td>\n",
       "    </tr>\n",
       "    <tr>\n",
       "      <th>2043</th>\n",
       "      <td>https://komikyv.org//kpv/node/39992</td>\n",
       "      <td>Пӧсь сынӧд</td>\n",
       "      <td>Иливапыс</td>\n",
       "      <td>Пьеса</td>\n",
       "      <td>NaN</td>\n",
       "      <td>Бӧрйӧм гижӧдъяс (2009)</td>\n",
       "      <td>\\n\\nПӦСЬ СЫНӦД\\n\\nВОРСЫСЬЯС:\\n\\nСавин — трестс...</td>\n",
       "      <td>10840</td>\n",
       "      <td>drama</td>\n",
       "      <td>пӧсь сын ворсны Савин трест представитель\\nГуд...</td>\n",
       "      <td>_Красов _Красовлӧн _Кочев _Сокерин _Курыдкашин...</td>\n",
       "      <td>10781</td>\n",
       "      <td>997</td>\n",
       "    </tr>\n",
       "  </tbody>\n",
       "</table>\n",
       "</div>"
      ],
      "text/plain": [
       "                                     link                   title  \\\n",
       "2031  https://komikyv.org//kpv/node/31007                    Моль   \n",
       "2039  https://komikyv.org//kpv/node/35465  Пемыд пармаын (Шыпича)   \n",
       "2043  https://komikyv.org//kpv/node/39992              Пӧсь сынӧд   \n",
       "\n",
       "               author      genre place                  source  \\\n",
       "2031  Нёбдінса Виттор  Ворсантор   NaN         Вабергач (1982)   \n",
       "2039        Сук Парма   Либретто   NaN     Тувсов кадын (1941)   \n",
       "2043         Иливапыс      Пьеса   NaN  Бӧрйӧм гижӧдъяс (2009)   \n",
       "\n",
       "                                                   text  words genre_wider  \\\n",
       "2031  \\n\\nМОЛЬ\\nӦти торъя ворсантор\\n\\nЙӧз:\\n\\nМИКАЙ...   3928       drama   \n",
       "2039  \\n\\nПЕМЫД ПАРМАЫН\\n(Шыпича)\\n\\nВит серпаса дра...   7371       drama   \n",
       "2043  \\n\\nПӦСЬ СЫНӦД\\n\\nВОРСЫСЬЯС:\\n\\nСавин — трестс...  10840       drama   \n",
       "\n",
       "                                                 lemmas  \\\n",
       "2031  моль 0 торъя ворсантор йӧз Микайлӧ ар 0 коммун...   \n",
       "2039  пемыд парма шыпича 0 серпас драма ворсны 0\\nЯр...   \n",
       "2043  пӧсь сын ворсны Савин трест представитель\\nГуд...   \n",
       "\n",
       "                                           unrecognized  lemmas_count  \\\n",
       "2031  _18–19 _комсомолеч _54–55 _30–32 _КРИСАН _ЛАБО...          3869   \n",
       "2039  _Шонді-Ныв _Шараф _КЫВВОДЗ _Анук _пӧдсӧн _Анук...          7213   \n",
       "2043  _Красов _Красовлӧн _Кочев _Сокерин _Курыдкашин...         10781   \n",
       "\n",
       "      unrecognized_count  \n",
       "2031                 191  \n",
       "2039                 182  \n",
       "2043                 997  "
      ]
     },
     "execution_count": 179,
     "metadata": {},
     "output_type": "execute_result"
    }
   ],
   "source": [
    "komi_fiction_df[komi_fiction_df.genre_wider == \"drama\"].sample(3)"
   ]
  },
  {
   "cell_type": "markdown",
   "metadata": {},
   "source": [
    "## Морфологический анализ нераспознанных слов с дефисом"
   ]
  },
  {
   "cell_type": "code",
   "execution_count": 5,
   "metadata": {},
   "outputs": [],
   "source": [
    "komi_fiction_df = pd.read_csv(r\"komi\\komi_fiction_prepared.csv\", encoding=\"UTF-8\")"
   ]
  },
  {
   "cell_type": "code",
   "execution_count": 40,
   "metadata": {},
   "outputs": [
    {
     "data": {
      "text/html": [
       "<div>\n",
       "<style scoped>\n",
       "    .dataframe tbody tr th:only-of-type {\n",
       "        vertical-align: middle;\n",
       "    }\n",
       "\n",
       "    .dataframe tbody tr th {\n",
       "        vertical-align: top;\n",
       "    }\n",
       "\n",
       "    .dataframe thead th {\n",
       "        text-align: right;\n",
       "    }\n",
       "</style>\n",
       "<table border=\"1\" class=\"dataframe\">\n",
       "  <thead>\n",
       "    <tr style=\"text-align: right;\">\n",
       "      <th></th>\n",
       "      <th>link</th>\n",
       "      <th>title</th>\n",
       "      <th>author</th>\n",
       "      <th>genre</th>\n",
       "      <th>place</th>\n",
       "      <th>source</th>\n",
       "      <th>text</th>\n",
       "      <th>words</th>\n",
       "      <th>genre_wider</th>\n",
       "      <th>lemmas</th>\n",
       "    </tr>\n",
       "  </thead>\n",
       "  <tbody>\n",
       "    <tr>\n",
       "      <th>0</th>\n",
       "      <td>https://komikyv.org//kpv/node/40856</td>\n",
       "      <td>\"Дзурк-дзурк, дзурки-дзурк...\"</td>\n",
       "      <td>Касеева Клавдия</td>\n",
       "      <td>Кывбур</td>\n",
       "      <td>NaN</td>\n",
       "      <td>Вын (2022)</td>\n",
       "      <td>\\n\\n* * *\\n\\nусьӧмаяслы, видзысьяслы да волысь...</td>\n",
       "      <td>148</td>\n",
       "      <td>poetry</td>\n",
       "      <td>усьны видзысь да воны _Дзурк-дзурк _дзурки-дзу...</td>\n",
       "    </tr>\n",
       "    <tr>\n",
       "      <th>1</th>\n",
       "      <td>https://komikyv.org//kpv/node/40830</td>\n",
       "      <td>\"катша-катша, китш-котш...\"</td>\n",
       "      <td>Касеева Клавдия</td>\n",
       "      <td>Кывбур</td>\n",
       "      <td>NaN</td>\n",
       "      <td>Вын (2022)</td>\n",
       "      <td>\\n\\n* * *\\n\\nкатша-катша, китш-котш,\\nтшӧті-ка...</td>\n",
       "      <td>108</td>\n",
       "      <td>poetry</td>\n",
       "      <td>_катша-катша _китш-котш _тшӧті-кадыс _тітш-тот...</td>\n",
       "    </tr>\n",
       "  </tbody>\n",
       "</table>\n",
       "</div>"
      ],
      "text/plain": [
       "                                  link                           title  \\\n",
       "0  https://komikyv.org//kpv/node/40856  \"Дзурк-дзурк, дзурки-дзурк...\"   \n",
       "1  https://komikyv.org//kpv/node/40830     \"катша-катша, китш-котш...\"   \n",
       "\n",
       "            author   genre place      source  \\\n",
       "0  Касеева Клавдия  Кывбур   NaN  Вын (2022)   \n",
       "1  Касеева Клавдия  Кывбур   NaN  Вын (2022)   \n",
       "\n",
       "                                                text  words genre_wider  \\\n",
       "0  \\n\\n* * *\\n\\nусьӧмаяслы, видзысьяслы да волысь...    148      poetry   \n",
       "1  \\n\\n* * *\\n\\nкатша-катша, китш-котш,\\nтшӧті-ка...    108      poetry   \n",
       "\n",
       "                                              lemmas  \n",
       "0  усьны видзысь да воны _Дзурк-дзурк _дзурки-дзу...  \n",
       "1  _катша-катша _китш-котш _тшӧті-кадыс _тітш-тот...  "
      ]
     },
     "execution_count": 40,
     "metadata": {},
     "output_type": "execute_result"
    }
   ],
   "source": [
    "komi_fiction_df.head(2)"
   ]
  },
  {
   "cell_type": "code",
   "execution_count": 86,
   "metadata": {},
   "outputs": [],
   "source": [
    "def prepare_hyphenated(text, a):\n",
    "    sents = text.split('\\n')\n",
    "    sents_prepared = []\n",
    "    pos_dict = {'NUM': '0', 'PRO': '1', 'APRO': '2', 'ADVPRO': '3', 'PN': '4'}\n",
    "    for sent in sents:\n",
    "        prepared = []\n",
    "        for word in sent.split():\n",
    "            if word[0] == '_' and '-' in word:\n",
    "                analyses = a.analyze_words(word[1:].split('-'))\n",
    "                is_unrecognizable = True\n",
    "                hyphenated_lemmas = []\n",
    "                for ana in analyses:\n",
    "                    wordform = ana[0].wf\n",
    "                    lemma = ana[0].lemma\n",
    "                    pos = ana[0].gramm.split(\",\")[0]\n",
    "                    #if the word is a number, we replace it with token for NUM\n",
    "                    if wordform.isdigit():\n",
    "                        hyphenated_lemmas.append('0')\n",
    "                        is_unrecognizable = False\n",
    "                    #if the pos of the word is NUM, PRO, APRO, ADVPRO or PN\n",
    "                    #(see gramm tags here https://komi-zyrian.web-corpora.net/)\n",
    "                    # we replace it with the token\n",
    "                    elif pos in pos_dict:\n",
    "                        hyphenated_lemmas.append(pos_dict[pos])\n",
    "                        is_unrecognizable = False\n",
    "                    elif lemma != \"\":\n",
    "                        #we replace word with its lemma\n",
    "                        hyphenated_lemmas.append(lemma)\n",
    "                        is_unrecognizable = False\n",
    "                    else:\n",
    "                        hyphenated_lemmas.append('_' + wordform)\n",
    "                if is_unrecognizable:\n",
    "                    #still unrecognized wordforms remain unchanged\n",
    "                    prepared.append(word)\n",
    "                else:\n",
    "                    prepared.extend(hyphenated_lemmas)\n",
    "            else:\n",
    "                prepared.append(word)\n",
    "        sents_prepared.append(\" \".join(prepared))\n",
    "    return \"\\n\".join(sents_prepared)"
   ]
  },
  {
   "cell_type": "code",
   "execution_count": null,
   "metadata": {},
   "outputs": [],
   "source": [
    "a = KomiZyrianAnalyzer(mode='strict')"
   ]
  },
  {
   "cell_type": "code",
   "execution_count": 87,
   "metadata": {},
   "outputs": [
    {
     "name": "stderr",
     "output_type": "stream",
     "text": [
      "100%|██████████| 4214/4214 [05:02<00:00, 13.93it/s] \n"
     ]
    }
   ],
   "source": [
    "komi_fiction_df['lemmas_hyphenated_preprocessed'] = komi_fiction_df['lemmas'].progress_apply(lambda x: prepare_hyphenated(x, a))"
   ]
  },
  {
   "cell_type": "code",
   "execution_count": 105,
   "metadata": {},
   "outputs": [],
   "source": [
    "komi_fiction_df['unrecognized'] = komi_fiction_df['lemmas_hyphenated_preprocessed'].apply(lambda x: \" \".join([word for word in x.split() if \"_\" in word]))\n",
    "komi_fiction_df['new_lemmas_count'] = komi_fiction_df['lemmas_hyphenated_preprocessed'].apply(lambda x: len(x.split()))\n",
    "komi_fiction_df['new_unrecognized_count'] = komi_fiction_df['unrecognized'].apply(lambda x: len(x.split()))"
   ]
  },
  {
   "cell_type": "code",
   "execution_count": 107,
   "metadata": {},
   "outputs": [
    {
     "name": "stdout",
     "output_type": "stream",
     "text": [
      "Получилось уменьшить процент нераспознанных слов с 4.64% до 3.65%.\n"
     ]
    }
   ],
   "source": [
    "# процент нераспознанных слов\n",
    "initial_unrecognized_percent = round(sum(komi_fiction_df['unrecognized_count']) / sum(komi_fiction_df['lemmas_count']) * 100, 2)\n",
    "new_unrecognized_percent = round(sum(komi_fiction_df['new_unrecognized_count']) / sum(komi_fiction_df['new_lemmas_count']) * 100, 2)\n",
    "print(f\"Получилось уменьшить процент нераспознанных слов с {initial_unrecognized_percent}% до {new_unrecognized_percent}%.\")"
   ]
  },
  {
   "cell_type": "code",
   "execution_count": 112,
   "metadata": {},
   "outputs": [
    {
     "data": {
      "text/html": [
       "<div>\n",
       "<style scoped>\n",
       "    .dataframe tbody tr th:only-of-type {\n",
       "        vertical-align: middle;\n",
       "    }\n",
       "\n",
       "    .dataframe tbody tr th {\n",
       "        vertical-align: top;\n",
       "    }\n",
       "\n",
       "    .dataframe thead th {\n",
       "        text-align: right;\n",
       "    }\n",
       "</style>\n",
       "<table border=\"1\" class=\"dataframe\">\n",
       "  <thead>\n",
       "    <tr style=\"text-align: right;\">\n",
       "      <th></th>\n",
       "      <th>link</th>\n",
       "      <th>title</th>\n",
       "      <th>author</th>\n",
       "      <th>genre</th>\n",
       "      <th>place</th>\n",
       "      <th>source</th>\n",
       "      <th>text</th>\n",
       "      <th>words</th>\n",
       "      <th>genre_wider</th>\n",
       "      <th>lemmas</th>\n",
       "      <th>lemmas_hyphenated_preprocessed</th>\n",
       "      <th>unrecognized</th>\n",
       "      <th>lemmas_count</th>\n",
       "      <th>unrecognized_count</th>\n",
       "      <th>new_lemmas_count</th>\n",
       "      <th>new_unrecognized_count</th>\n",
       "    </tr>\n",
       "  </thead>\n",
       "  <tbody>\n",
       "    <tr>\n",
       "      <th>0</th>\n",
       "      <td>https://komikyv.org//kpv/contents/olis-vylis-k...</td>\n",
       "      <td>Оліс-выліс Кулӧмдінын</td>\n",
       "      <td>Напалков Виктор</td>\n",
       "      <td>Кывбур</td>\n",
       "      <td>NaN</td>\n",
       "      <td>О, Енмӧй!.. (2007)</td>\n",
       "      <td>\\n\\nОЛІС-ВЫЛІС КУЛӦМДІНЫН\\n\\n\\nОг нимсӧ нывкаы...</td>\n",
       "      <td>120</td>\n",
       "      <td>poetry</td>\n",
       "      <td>_ОЛІС-ВЫЛІС Кулӧмдін ог ним нывка индыны\\n1 ча...</td>\n",
       "      <td>овны _ВЫЛІС Кулӧмдін ог ним нывка индыны\\n1 ча...</td>\n",
       "      <td>_ВЫЛІС _выліс _кодьсӧ _тивкйӧдлӧны</td>\n",
       "      <td>119</td>\n",
       "      <td>4</td>\n",
       "      <td>121</td>\n",
       "      <td>4</td>\n",
       "    </tr>\n",
       "    <tr>\n",
       "      <th>1</th>\n",
       "      <td>https://komikyv.org//kpv/node/30620</td>\n",
       "      <td>Водз на шойччыны</td>\n",
       "      <td>Нёбдінса Виттор</td>\n",
       "      <td>Кывбур</td>\n",
       "      <td>NaN</td>\n",
       "      <td>Югыд кодзув (1980)</td>\n",
       "      <td>\\nВОДЗ НА ШОЙЧЧЫНЫ(Думъяс)\\n\\nСьӧкыд кад олам ...</td>\n",
       "      <td>145</td>\n",
       "      <td>poetry</td>\n",
       "      <td>водз на _ШОЙЧЧЫНЫ(Думъяс сьӧкыд кад овны 1 мув...</td>\n",
       "      <td>водз на _ШОЙЧЧЫНЫ(Думъяс сьӧкыд кад овны 1 мув...</td>\n",
       "      <td>_ШОЙЧЧЫНЫ(Думъяс</td>\n",
       "      <td>143</td>\n",
       "      <td>1</td>\n",
       "      <td>143</td>\n",
       "      <td>1</td>\n",
       "    </tr>\n",
       "  </tbody>\n",
       "</table>\n",
       "</div>"
      ],
      "text/plain": [
       "                                                link                  title  \\\n",
       "0  https://komikyv.org//kpv/contents/olis-vylis-k...  Оліс-выліс Кулӧмдінын   \n",
       "1                https://komikyv.org//kpv/node/30620       Водз на шойччыны   \n",
       "\n",
       "            author   genre place              source  \\\n",
       "0  Напалков Виктор  Кывбур   NaN  О, Енмӧй!.. (2007)   \n",
       "1  Нёбдінса Виттор  Кывбур   NaN  Югыд кодзув (1980)   \n",
       "\n",
       "                                                text  words genre_wider  \\\n",
       "0  \\n\\nОЛІС-ВЫЛІС КУЛӦМДІНЫН\\n\\n\\nОг нимсӧ нывкаы...    120      poetry   \n",
       "1  \\nВОДЗ НА ШОЙЧЧЫНЫ(Думъяс)\\n\\nСьӧкыд кад олам ...    145      poetry   \n",
       "\n",
       "                                              lemmas  \\\n",
       "0  _ОЛІС-ВЫЛІС Кулӧмдін ог ним нывка индыны\\n1 ча...   \n",
       "1  водз на _ШОЙЧЧЫНЫ(Думъяс сьӧкыд кад овны 1 мув...   \n",
       "\n",
       "                      lemmas_hyphenated_preprocessed  \\\n",
       "0  овны _ВЫЛІС Кулӧмдін ог ним нывка индыны\\n1 ча...   \n",
       "1  водз на _ШОЙЧЧЫНЫ(Думъяс сьӧкыд кад овны 1 мув...   \n",
       "\n",
       "                         unrecognized  lemmas_count  unrecognized_count  \\\n",
       "0  _ВЫЛІС _выліс _кодьсӧ _тивкйӧдлӧны           119                   4   \n",
       "1                    _ШОЙЧЧЫНЫ(Думъяс           143                   1   \n",
       "\n",
       "   new_lemmas_count  new_unrecognized_count  \n",
       "0               121                       4  \n",
       "1               143                       1  "
      ]
     },
     "execution_count": 112,
     "metadata": {},
     "output_type": "execute_result"
    }
   ],
   "source": [
    "komi_fiction_df = komi_fiction_df.sample(frac=1).reset_index(drop=True)\n",
    "komi_fiction_df.head(2)"
   ]
  },
  {
   "cell_type": "code",
   "execution_count": 113,
   "metadata": {},
   "outputs": [],
   "source": [
    "komi_fiction_df.to_csv(\"komi\\komi_fiction_prepared.csv\", index=False, encoding='utf-8')"
   ]
  },
  {
   "cell_type": "code",
   "execution_count": 234,
   "metadata": {},
   "outputs": [],
   "source": [
    "komi_fiction_df = pd.read_csv(r\"komi\\komi_fiction_prepared.csv\", encoding=\"UTF-8\")"
   ]
  },
  {
   "cell_type": "code",
   "execution_count": 235,
   "metadata": {},
   "outputs": [],
   "source": [
    "def prepare_unrecognized(text):\n",
    "    text_prepared = ''\n",
    "    for sent in str(text).split('\\n'):\n",
    "        sent_prepared = ''\n",
    "        for word in str(sent).split():\n",
    "            if word[0] == '_':\n",
    "                word = word[1:]\n",
    "            sent_prepared += word\n",
    "            sent_prepared += ' '\n",
    "        text_prepared += sent_prepared\n",
    "        text_prepared += '\\n'\n",
    "    return text_prepared.lower()"
   ]
  },
  {
   "cell_type": "code",
   "execution_count": 237,
   "metadata": {},
   "outputs": [
    {
     "data": {
      "text/html": [
       "<div>\n",
       "<style scoped>\n",
       "    .dataframe tbody tr th:only-of-type {\n",
       "        vertical-align: middle;\n",
       "    }\n",
       "\n",
       "    .dataframe tbody tr th {\n",
       "        vertical-align: top;\n",
       "    }\n",
       "\n",
       "    .dataframe thead th {\n",
       "        text-align: right;\n",
       "    }\n",
       "</style>\n",
       "<table border=\"1\" class=\"dataframe\">\n",
       "  <thead>\n",
       "    <tr style=\"text-align: right;\">\n",
       "      <th></th>\n",
       "      <th>link</th>\n",
       "      <th>title</th>\n",
       "      <th>author</th>\n",
       "      <th>genre</th>\n",
       "      <th>place</th>\n",
       "      <th>source</th>\n",
       "      <th>text</th>\n",
       "      <th>genre_wider</th>\n",
       "      <th>unrecognized</th>\n",
       "      <th>preprocessed</th>\n",
       "    </tr>\n",
       "  </thead>\n",
       "  <tbody>\n",
       "    <tr>\n",
       "      <th>913</th>\n",
       "      <td>https://komikyv.org//kpv/node/35768</td>\n",
       "      <td>Вӧр гормӧг</td>\n",
       "      <td>Куратова Нина</td>\n",
       "      <td>Повесьт</td>\n",
       "      <td>NaN</td>\n",
       "      <td>Куим небӧгӧ ӧтувтӧм гижӧд чукӧр. T. 1 (2015)</td>\n",
       "      <td>\\n\\nВӦР ГОРМӦГ\\n\\nА и вывті кӧ нин сьӧкыд лоӧ ...</td>\n",
       "      <td>prose</td>\n",
       "      <td>богу в всё равно витальыс витальыс ванюшыс ван...</td>\n",
       "      <td>вӧрны гормӧг а и вывті кӧ нин сьӧкыд лоны 1 ов...</td>\n",
       "    </tr>\n",
       "    <tr>\n",
       "      <th>4188</th>\n",
       "      <td>https://komikyv.org//kpv/node/42817</td>\n",
       "      <td>Сирпи конъяліс</td>\n",
       "      <td>Митерас Ӧльӧш</td>\n",
       "      <td>Висьт</td>\n",
       "      <td>NaN</td>\n",
       "      <td>Войвыв кодзув (1996 №12)</td>\n",
       "      <td>\\n\\nСИРПИ КОНЪЯЛІС\\n\\n— Пашӧ-ӧ! Па-а-ашӧ!\\nӦши...</td>\n",
       "      <td>prose</td>\n",
       "      <td>па ашӧ модялысь модьӧ этайӧс ыхы складникас мо...</td>\n",
       "      <td>сирпи конъявны паш ӧ \\nпа а ашӧ \\nӧшинь ув вес...</td>\n",
       "    </tr>\n",
       "  </tbody>\n",
       "</table>\n",
       "</div>"
      ],
      "text/plain": [
       "                                     link           title         author  \\\n",
       "913   https://komikyv.org//kpv/node/35768      Вӧр гормӧг  Куратова Нина   \n",
       "4188  https://komikyv.org//kpv/node/42817  Сирпи конъяліс  Митерас Ӧльӧш   \n",
       "\n",
       "        genre place                                        source  \\\n",
       "913   Повесьт   NaN  Куим небӧгӧ ӧтувтӧм гижӧд чукӧр. T. 1 (2015)   \n",
       "4188    Висьт   NaN                      Войвыв кодзув (1996 №12)   \n",
       "\n",
       "                                                   text genre_wider  \\\n",
       "913   \\n\\nВӦР ГОРМӦГ\\n\\nА и вывті кӧ нин сьӧкыд лоӧ ...       prose   \n",
       "4188  \\n\\nСИРПИ КОНЪЯЛІС\\n\\n— Пашӧ-ӧ! Па-а-ашӧ!\\nӦши...       prose   \n",
       "\n",
       "                                           unrecognized  \\\n",
       "913   богу в всё равно витальыс витальыс ванюшыс ван...   \n",
       "4188  па ашӧ модялысь модьӧ этайӧс ыхы складникас мо...   \n",
       "\n",
       "                                           preprocessed  \n",
       "913   вӧрны гормӧг а и вывті кӧ нин сьӧкыд лоны 1 ов...  \n",
       "4188  сирпи конъявны паш ӧ \\nпа а ашӧ \\nӧшинь ув вес...  "
      ]
     },
     "execution_count": 237,
     "metadata": {},
     "output_type": "execute_result"
    }
   ],
   "source": [
    "komi_fiction_prepared_df['preprocessed'] = komi_fiction_df['lemmas_hyphenated_preprocessed'].apply(prepare_unrecognized)\n",
    "komi_fiction_prepared_df['preprocessed'] = komi_fiction_prepared_df['preprocessed'].apply(lambda x: x.strip())\n",
    "komi_fiction_prepared_df['unrecognized'] = komi_fiction_prepared_df['unrecognized'].apply(prepare_unrecognized)\n",
    "komi_fiction_prepared_df = komi_fiction_prepared_df.drop(columns=['words', 'lemmas', 'lemmas_hyphenated_preprocessed', 'lemmas_count', 'unrecognized_count', 'new_lemmas_count', 'new_unrecognized_count'])\n",
    "komi_fiction_prepared_df.sample(2)"
   ]
  },
  {
   "cell_type": "code",
   "execution_count": 238,
   "metadata": {},
   "outputs": [],
   "source": [
    "komi_fiction_prepared_df.to_csv(\"komi\\literary_komi-zyryan_corpus.csv\", index=False, encoding='utf-8')"
   ]
  },
  {
   "cell_type": "markdown",
   "metadata": {},
   "source": [
    "## Создание корпуса художественных коми-текстов в виде файла .txt"
   ]
  },
  {
   "cell_type": "code",
   "execution_count": 239,
   "metadata": {},
   "outputs": [],
   "source": [
    "komi_fiction_prepared_df = pd.read_csv(r\"komi\\literary_komi-zyryan_corpus.csv\", encoding=\"UTF-8\")"
   ]
  },
  {
   "cell_type": "code",
   "execution_count": 240,
   "metadata": {},
   "outputs": [],
   "source": [
    "with open(r'komi\\komi_fiction_sent_corpus.txt', 'w', encoding='UTF-8') as file:\n",
    "    file.write(komi_fiction_prepared_df['preprocessed'].str.replace('\\n\\n', '\\n').str.cat(sep='\\n'))\n",
    "with open(r'komi\\komi_fiction_text_corpus.txt', 'w', encoding='UTF-8') as file:\n",
    "    file.write(komi_fiction_prepared_df['preprocessed'].str.replace('\\n\\n', ' ').str.replace('\\n', ' ').str.cat(sep='\\n'))"
   ]
  },
  {
   "cell_type": "markdown",
   "metadata": {},
   "source": [
    "## SVD на художественных коми-текстах"
   ]
  },
  {
   "cell_type": "code",
   "execution_count": 241,
   "metadata": {},
   "outputs": [],
   "source": [
    "from sklearn.feature_extraction.text import TfidfVectorizer\n",
    "from scipy.sparse.linalg import svds\n",
    "import numpy as np"
   ]
  },
  {
   "cell_type": "code",
   "execution_count": 242,
   "metadata": {},
   "outputs": [],
   "source": [
    "def make_matrix_W_list_of_words(corpus_path, min_df, max_df=None, token_pattern = None, use_idf = True):\n",
    "  '''\n",
    "  corpus_path - is a path to the corpus, where one line - one text\n",
    "\n",
    "  min_df - is the minimum times (or fraction of the texts) a word must occur in the corpus\n",
    "\n",
    "  max_df - is the maximum times (or fraction of the texts) a word must occur in the corpus\n",
    "  if it is None, there are no upper bound\n",
    "\n",
    "  token_pattern - alphabet, which will be considered. Usually can be all letters of the language and numbers\n",
    "  if None all symbols will be OK\n",
    "\n",
    "  use_idf - is bool value whether to use idf\n",
    "  '''\n",
    "  with open(corpus_path, 'r', encoding='UTF-8') as corpus_file:\n",
    "        if token_pattern:\n",
    "            vectorizer = TfidfVectorizer(analyzer='word', min_df=min_df, token_pattern=token_pattern, use_idf=use_idf)\n",
    "        else:\n",
    "            vectorizer = TfidfVectorizer(analyzer='word', min_df=min_df, use_idf=use_idf)\n",
    "        data_vectorized = vectorizer.fit_transform(corpus_file)\n",
    "  return data_vectorized, vectorizer.get_feature_names_out()"
   ]
  },
  {
   "cell_type": "code",
   "execution_count": 243,
   "metadata": {},
   "outputs": [],
   "source": [
    "W, words_list = make_matrix_W_list_of_words(r'komi\\komi_fiction_text_corpus.txt', 3)"
   ]
  },
  {
   "cell_type": "code",
   "execution_count": 244,
   "metadata": {},
   "outputs": [
    {
     "data": {
      "text/plain": [
       "(4214, 22856)"
      ]
     },
     "execution_count": 244,
     "metadata": {},
     "output_type": "execute_result"
    }
   ],
   "source": [
    "W.shape"
   ]
  },
  {
   "cell_type": "code",
   "execution_count": 245,
   "metadata": {},
   "outputs": [],
   "source": [
    "def apply_svd(W, k, output_folder):\n",
    "  '''\n",
    "  W - matrix texts x words\n",
    "  k - the rank of the SVD, must be less than any dimension of W\n",
    "  '''\n",
    "  #Apply the SVD function\n",
    "  u, sigma, vt = svds(W, k)\n",
    "\n",
    "  #The function does not garantee, that the order of the singular values is descending\n",
    "  #So, we need to dreate it by hand\n",
    "  descending_order_of_inds = np.flip(np.argsort(sigma))\n",
    "  u = u[:,descending_order_of_inds]\n",
    "  vt = vt[descending_order_of_inds]\n",
    "  sigma = sigma[descending_order_of_inds]\n",
    "\n",
    "  #Checking that sizes are ok\n",
    "  assert sigma.shape == (k,)\n",
    "  assert vt.shape == (k, W.shape[1])\n",
    "  assert u.shape == (W.shape[0], k)\n",
    "\n",
    "  #Now, we'll save all the matrixes in folder (just in case)\n",
    "  with open(output_folder + '\\\\' + str(k) + '_sigma_vt.npy', 'wb') as f:\n",
    "        np.save(f, np.dot(np.diag(sigma), vt).T)\n",
    "  with open(output_folder + '\\\\' +  str(k) + '_sigma.npy', 'wb') as f:\n",
    "        np.save(f, sigma)\n",
    "  with open(output_folder + '\\\\' +  str(k) + '_u.npy', 'wb') as f:\n",
    "        np.save(f, u)\n",
    "  with open(output_folder + '\\\\' +  str(k) + '_vt.npy', 'wb') as f:\n",
    "        np.save(f, vt)\n",
    "  return np.dot(np.diag(sigma), vt).T"
   ]
  },
  {
   "cell_type": "code",
   "execution_count": 246,
   "metadata": {},
   "outputs": [],
   "source": [
    "vv = apply_svd(W, 1000, 'komi')"
   ]
  },
  {
   "cell_type": "code",
   "execution_count": 247,
   "metadata": {},
   "outputs": [
    {
     "data": {
      "text/plain": [
       "(22856, 1000)"
      ]
     },
     "execution_count": 247,
     "metadata": {},
     "output_type": "execute_result"
    }
   ],
   "source": [
    "vv.shape"
   ]
  },
  {
   "cell_type": "code",
   "execution_count": 248,
   "metadata": {},
   "outputs": [],
   "source": [
    "def create_dictionary(words_list, vv, output_file):\n",
    "  dictionary = {}\n",
    "  for word, vector in zip(words_list, vv):\n",
    "    dictionary[word] = vector\n",
    "  np.save(output_file, dictionary)\n",
    "  return dictionary"
   ]
  },
  {
   "cell_type": "code",
   "execution_count": 249,
   "metadata": {},
   "outputs": [],
   "source": [
    "dictionary = create_dictionary(words_list, vv, r'komi\\svd_dictionary.npy')"
   ]
  },
  {
   "cell_type": "code",
   "execution_count": 250,
   "metadata": {},
   "outputs": [],
   "source": [
    "dictionary = np.load(r'komi\\dictionary.npy', allow_pickle=True)[()]"
   ]
  },
  {
   "cell_type": "code",
   "execution_count": 251,
   "metadata": {},
   "outputs": [],
   "source": [
    "def convert_text_to_vector(text, dictionary, n, m):\n",
    "  #split the text into words\n",
    "  text = text.strip().split()\n",
    "  #It is the list for all the vectors in text\n",
    "  text_vectors = []\n",
    "\n",
    "  #inspect all n-grams in the text\n",
    "  for i in range(len(text) - n + 1):\n",
    "      #The list of vectors for words in the n-gram\n",
    "      gram_vec = []\n",
    "      #Let's look into every word of the n-gram\n",
    "      for word in text[i:i+n]:\n",
    "        #If current word is not in dictionary, we skip this n-gram\n",
    "        if word not in dictionary:\n",
    "          gram_vec = []\n",
    "          break\n",
    "        vec_ = dictionary[word][:m]\n",
    "        gram_vec.append(vec_)\n",
    "\n",
    "      #If the list of vectors is not correct, we skip the n-gram\n",
    "      if len(gram_vec) != n or len(gram_vec[-1]) != m:\n",
    "        continue\n",
    "\n",
    "      text_vectors.append(np.array(gram_vec).flatten())\n",
    "  return text_vectors"
   ]
  },
  {
   "cell_type": "code",
   "execution_count": 252,
   "metadata": {},
   "outputs": [],
   "source": [
    "n = 2 #How long is the n-gram\n",
    "m = 100 #How long is a vector for every word\n",
    "text = 'усьӧма видзны да воны дзуртны гусь парма чурк важ видзӧдны а 1 чужны челядь 1 нин эз сьывны да бур кыв удж эз ышавны эз гӧтырпу война бӧръя топавны сыв а 1 кольӧма вижавны гижны да 3 кывны тыш усьны тыш а чужны му виччыны да дзик 2 воны корны дитя локны кӧть лым локны дон но кольны 1 3 3 тувччавны бӧръя кокны и 1 оз аддзыны нин 1 кодйыны гу 3 пыдӧстӧм енэж окавны кӧдзавны му да кыа садьмыны а рыт вочасӧн ку 1 кыв кыдз во пыр дзуртны да сёрнитны важ парма чурк 1 кыв но бӧр ог воны но 2 воны май тӧлысь ойдыны юны и лэдзавны кор нэриник бадь пуны а 3 кӧ чужны му выв 1 ковны на ковны и дзик 2 воны бӧръя лым 1 парма воны'\n",
    "text_vector = convert_text_to_vector(text, dictionary, n, m)"
   ]
  },
  {
   "cell_type": "code",
   "execution_count": 253,
   "metadata": {},
   "outputs": [
    {
     "data": {
      "text/plain": [
       "87"
      ]
     },
     "execution_count": 253,
     "metadata": {},
     "output_type": "execute_result"
    }
   ],
   "source": [
    "len(text_vector)"
   ]
  },
  {
   "cell_type": "markdown",
   "metadata": {},
   "source": [
    "## Word2vec на художественных коми-текстах"
   ]
  },
  {
   "cell_type": "code",
   "execution_count": 254,
   "metadata": {},
   "outputs": [],
   "source": [
    "import io\n",
    "from gensim.models import Word2Vec"
   ]
  },
  {
   "cell_type": "code",
   "execution_count": 255,
   "metadata": {},
   "outputs": [],
   "source": [
    "def load_corpus(fname):\n",
    "    fin = io.open(fname, 'r', encoding='utf-8', newline='\\n', errors='ignore')\n",
    "    documents = []\n",
    "    for line in fin:\n",
    "        documents.append(line.split())\n",
    "    return documents"
   ]
  },
  {
   "cell_type": "code",
   "execution_count": 256,
   "metadata": {},
   "outputs": [],
   "source": [
    "def save_dictionary(fname, dictionary, args):\n",
    "    length, dimension = args\n",
    "    fin = io.open(fname, 'w', encoding='utf-8')\n",
    "    fin.write('%d %d\\n' % (length, dimension))\n",
    "    for word in dictionary:\n",
    "        fin.write('%s %s\\n' % (word, ' '.join(map(str, dictionary[word]))))\n",
    "\n",
    "def load_dictionary(fname):\n",
    "    fin = io.open(fname, 'r', encoding='utf-8', newline='\\n', errors='ignore')\n",
    "    length, dimension = map(int, fin.readline().split())\n",
    "    dictionary = {}\n",
    "    for line in fin:\n",
    "        tokens = line.rstrip().split(' ')\n",
    "        dictionary[tokens[0]] = map(float, tokens[1:])\n",
    "    return dictionary"
   ]
  },
  {
   "cell_type": "code",
   "execution_count": 257,
   "metadata": {},
   "outputs": [
    {
     "data": {
      "text/plain": [
       "4214"
      ]
     },
     "execution_count": 257,
     "metadata": {},
     "output_type": "execute_result"
    }
   ],
   "source": [
    "documents = load_corpus(r'komi\\komi_fiction_text_corpus.txt')\n",
    "len(documents)"
   ]
  },
  {
   "cell_type": "code",
   "execution_count": 258,
   "metadata": {},
   "outputs": [
    {
     "name": "stdout",
     "output_type": "stream",
     "text": [
      "CPU times: total: 16.4 s\n",
      "Wall time: 16.8 s\n"
     ]
    }
   ],
   "source": [
    "%%time\n",
    "\n",
    "dimension = 100\n",
    "model = Word2Vec(sentences=documents, vector_size=dimension, min_count=3)"
   ]
  },
  {
   "cell_type": "code",
   "execution_count": 259,
   "metadata": {},
   "outputs": [
    {
     "data": {
      "text/plain": [
       "28799"
      ]
     },
     "execution_count": 259,
     "metadata": {},
     "output_type": "execute_result"
    }
   ],
   "source": [
    "dictionary = {key : model.wv[key] for key in model.wv.key_to_index}\n",
    "len(dictionary)"
   ]
  },
  {
   "cell_type": "code",
   "execution_count": 260,
   "metadata": {},
   "outputs": [
    {
     "data": {
      "text/plain": [
       "[('ныланӧй', 0.7535287141799927),\n",
       " ('жӧник', 0.7276376485824585),\n",
       " ('тиюк', 0.7068349123001099),\n",
       " ('рочакань', 0.7066267728805542),\n",
       " ('невеста', 0.70535808801651),\n",
       " ('унінь', 0.7049809098243713),\n",
       " ('зараньӧс', 0.6998177766799927),\n",
       " ('сарича', 0.6969175934791565),\n",
       " ('парша', 0.692864179611206),\n",
       " ('вежай', 0.6888182163238525)]"
      ]
     },
     "execution_count": 260,
     "metadata": {},
     "output_type": "execute_result"
    }
   ],
   "source": [
    "model.wv.most_similar('гӧтырпу')"
   ]
  },
  {
   "cell_type": "code",
   "execution_count": 261,
   "metadata": {},
   "outputs": [],
   "source": [
    "save_dictionary(r'komi\\cbow_dictionary.txt', dictionary, (len(dictionary), dimension))"
   ]
  },
  {
   "cell_type": "code",
   "execution_count": 262,
   "metadata": {},
   "outputs": [],
   "source": [
    "dictionary = load_dictionary(r'komi\\cbow_dictionary.txt')"
   ]
  },
  {
   "cell_type": "markdown",
   "metadata": {},
   "source": [
    "## Корпус прессы\n",
    "in progress..."
   ]
  },
  {
   "cell_type": "code",
   "execution_count": null,
   "metadata": {},
   "outputs": [],
   "source": []
  }
 ],
 "metadata": {
  "colab": {
   "provenance": []
  },
  "kernelspec": {
   "display_name": "Python 3 (ipykernel)",
   "language": "python",
   "name": "python3"
  },
  "language_info": {
   "codemirror_mode": {
    "name": "ipython",
    "version": 3
   },
   "file_extension": ".py",
   "mimetype": "text/x-python",
   "name": "python",
   "nbconvert_exporter": "python",
   "pygments_lexer": "ipython3",
   "version": "3.11.7"
  },
  "widgets": {
   "application/vnd.jupyter.widget-state+json": {
    "049537086a864d609cde3d2ad5beb645": {
     "model_module": "@jupyter-widgets/controls",
     "model_module_version": "1.5.0",
     "model_name": "HTMLModel",
     "state": {
      "_dom_classes": [],
      "_model_module": "@jupyter-widgets/controls",
      "_model_module_version": "1.5.0",
      "_model_name": "HTMLModel",
      "_view_count": null,
      "_view_module": "@jupyter-widgets/controls",
      "_view_module_version": "1.5.0",
      "_view_name": "HTMLView",
      "description": "",
      "description_tooltip": null,
      "layout": "IPY_MODEL_41b8176a640148da8f39625ce035185f",
      "placeholder": "​",
      "style": "IPY_MODEL_dd313f38508340ce9222b5207559cab6",
      "value": "README.md: 100%"
     }
    },
    "115fe11bf9fb4f3a8cc5a2483a68af18": {
     "model_module": "@jupyter-widgets/controls",
     "model_module_version": "1.5.0",
     "model_name": "HBoxModel",
     "state": {
      "_dom_classes": [],
      "_model_module": "@jupyter-widgets/controls",
      "_model_module_version": "1.5.0",
      "_model_name": "HBoxModel",
      "_view_count": null,
      "_view_module": "@jupyter-widgets/controls",
      "_view_module_version": "1.5.0",
      "_view_name": "HBoxView",
      "box_style": "",
      "children": [
       "IPY_MODEL_ad77d98007f843afaf704fb745c3ec48",
       "IPY_MODEL_eae232eeb2c240a2a1ccd8faa98561a5",
       "IPY_MODEL_1a73ce3fefc74f9eb889d4ec450a9691"
      ],
      "layout": "IPY_MODEL_ddd7c0efc3424788a9b8bfe1ccb72a1e"
     }
    },
    "17be763b0a9045aab225eb7512580f34": {
     "model_module": "@jupyter-widgets/controls",
     "model_module_version": "1.5.0",
     "model_name": "HTMLModel",
     "state": {
      "_dom_classes": [],
      "_model_module": "@jupyter-widgets/controls",
      "_model_module_version": "1.5.0",
      "_model_name": "HTMLModel",
      "_view_count": null,
      "_view_module": "@jupyter-widgets/controls",
      "_view_module_version": "1.5.0",
      "_view_name": "HTMLView",
      "description": "",
      "description_tooltip": null,
      "layout": "IPY_MODEL_f4fbb99c02004716b8c285d1285d5fad",
      "placeholder": "​",
      "style": "IPY_MODEL_c4f7d21134df4315850b837173b9c781",
      "value": " 99.0/99.0 [00:00&lt;00:00, 1.87kB/s]"
     }
    },
    "1a73ce3fefc74f9eb889d4ec450a9691": {
     "model_module": "@jupyter-widgets/controls",
     "model_module_version": "1.5.0",
     "model_name": "HTMLModel",
     "state": {
      "_dom_classes": [],
      "_model_module": "@jupyter-widgets/controls",
      "_model_module_version": "1.5.0",
      "_model_name": "HTMLModel",
      "_view_count": null,
      "_view_module": "@jupyter-widgets/controls",
      "_view_module_version": "1.5.0",
      "_view_name": "HTMLView",
      "description": "",
      "description_tooltip": null,
      "layout": "IPY_MODEL_d0ad1bc2870244e89fef6a33dcbb5c59",
      "placeholder": "​",
      "style": "IPY_MODEL_3ace2f74f6514d98a62638d6e41fc00d",
      "value": " 150553/150553 [00:04&lt;00:00, 34288.07 examples/s]"
     }
    },
    "1d20aaa92f6545dbb0057101cecd2c54": {
     "model_module": "@jupyter-widgets/controls",
     "model_module_version": "1.5.0",
     "model_name": "FloatProgressModel",
     "state": {
      "_dom_classes": [],
      "_model_module": "@jupyter-widgets/controls",
      "_model_module_version": "1.5.0",
      "_model_name": "FloatProgressModel",
      "_view_count": null,
      "_view_module": "@jupyter-widgets/controls",
      "_view_module_version": "1.5.0",
      "_view_name": "ProgressView",
      "bar_style": "success",
      "description": "",
      "description_tooltip": null,
      "layout": "IPY_MODEL_5702dd24480540e59316742a415e93d6",
      "max": 41714945,
      "min": 0,
      "orientation": "horizontal",
      "style": "IPY_MODEL_b9a7d3b7f1624925a4b26c8f846173fd",
      "value": 41714945
     }
    },
    "3ace2f74f6514d98a62638d6e41fc00d": {
     "model_module": "@jupyter-widgets/controls",
     "model_module_version": "1.5.0",
     "model_name": "DescriptionStyleModel",
     "state": {
      "_model_module": "@jupyter-widgets/controls",
      "_model_module_version": "1.5.0",
      "_model_name": "DescriptionStyleModel",
      "_view_count": null,
      "_view_module": "@jupyter-widgets/base",
      "_view_module_version": "1.2.0",
      "_view_name": "StyleView",
      "description_width": ""
     }
    },
    "41b8176a640148da8f39625ce035185f": {
     "model_module": "@jupyter-widgets/base",
     "model_module_version": "1.2.0",
     "model_name": "LayoutModel",
     "state": {
      "_model_module": "@jupyter-widgets/base",
      "_model_module_version": "1.2.0",
      "_model_name": "LayoutModel",
      "_view_count": null,
      "_view_module": "@jupyter-widgets/base",
      "_view_module_version": "1.2.0",
      "_view_name": "LayoutView",
      "align_content": null,
      "align_items": null,
      "align_self": null,
      "border": null,
      "bottom": null,
      "display": null,
      "flex": null,
      "flex_flow": null,
      "grid_area": null,
      "grid_auto_columns": null,
      "grid_auto_flow": null,
      "grid_auto_rows": null,
      "grid_column": null,
      "grid_gap": null,
      "grid_row": null,
      "grid_template_areas": null,
      "grid_template_columns": null,
      "grid_template_rows": null,
      "height": null,
      "justify_content": null,
      "justify_items": null,
      "left": null,
      "margin": null,
      "max_height": null,
      "max_width": null,
      "min_height": null,
      "min_width": null,
      "object_fit": null,
      "object_position": null,
      "order": null,
      "overflow": null,
      "overflow_x": null,
      "overflow_y": null,
      "padding": null,
      "right": null,
      "top": null,
      "visibility": null,
      "width": null
     }
    },
    "4842c631e85c493eb91c3e03c45ff664": {
     "model_module": "@jupyter-widgets/controls",
     "model_module_version": "1.5.0",
     "model_name": "DescriptionStyleModel",
     "state": {
      "_model_module": "@jupyter-widgets/controls",
      "_model_module_version": "1.5.0",
      "_model_name": "DescriptionStyleModel",
      "_view_count": null,
      "_view_module": "@jupyter-widgets/base",
      "_view_module_version": "1.2.0",
      "_view_name": "StyleView",
      "description_width": ""
     }
    },
    "492ed4f9af9c462bba92bd32aea2e09f": {
     "model_module": "@jupyter-widgets/base",
     "model_module_version": "1.2.0",
     "model_name": "LayoutModel",
     "state": {
      "_model_module": "@jupyter-widgets/base",
      "_model_module_version": "1.2.0",
      "_model_name": "LayoutModel",
      "_view_count": null,
      "_view_module": "@jupyter-widgets/base",
      "_view_module_version": "1.2.0",
      "_view_name": "LayoutView",
      "align_content": null,
      "align_items": null,
      "align_self": null,
      "border": null,
      "bottom": null,
      "display": null,
      "flex": null,
      "flex_flow": null,
      "grid_area": null,
      "grid_auto_columns": null,
      "grid_auto_flow": null,
      "grid_auto_rows": null,
      "grid_column": null,
      "grid_gap": null,
      "grid_row": null,
      "grid_template_areas": null,
      "grid_template_columns": null,
      "grid_template_rows": null,
      "height": null,
      "justify_content": null,
      "justify_items": null,
      "left": null,
      "margin": null,
      "max_height": null,
      "max_width": null,
      "min_height": null,
      "min_width": null,
      "object_fit": null,
      "object_position": null,
      "order": null,
      "overflow": null,
      "overflow_x": null,
      "overflow_y": null,
      "padding": null,
      "right": null,
      "top": null,
      "visibility": null,
      "width": null
     }
    },
    "5702dd24480540e59316742a415e93d6": {
     "model_module": "@jupyter-widgets/base",
     "model_module_version": "1.2.0",
     "model_name": "LayoutModel",
     "state": {
      "_model_module": "@jupyter-widgets/base",
      "_model_module_version": "1.2.0",
      "_model_name": "LayoutModel",
      "_view_count": null,
      "_view_module": "@jupyter-widgets/base",
      "_view_module_version": "1.2.0",
      "_view_name": "LayoutView",
      "align_content": null,
      "align_items": null,
      "align_self": null,
      "border": null,
      "bottom": null,
      "display": null,
      "flex": null,
      "flex_flow": null,
      "grid_area": null,
      "grid_auto_columns": null,
      "grid_auto_flow": null,
      "grid_auto_rows": null,
      "grid_column": null,
      "grid_gap": null,
      "grid_row": null,
      "grid_template_areas": null,
      "grid_template_columns": null,
      "grid_template_rows": null,
      "height": null,
      "justify_content": null,
      "justify_items": null,
      "left": null,
      "margin": null,
      "max_height": null,
      "max_width": null,
      "min_height": null,
      "min_width": null,
      "object_fit": null,
      "object_position": null,
      "order": null,
      "overflow": null,
      "overflow_x": null,
      "overflow_y": null,
      "padding": null,
      "right": null,
      "top": null,
      "visibility": null,
      "width": null
     }
    },
    "5749611af2cf4ea4b819406ece6beae6": {
     "model_module": "@jupyter-widgets/base",
     "model_module_version": "1.2.0",
     "model_name": "LayoutModel",
     "state": {
      "_model_module": "@jupyter-widgets/base",
      "_model_module_version": "1.2.0",
      "_model_name": "LayoutModel",
      "_view_count": null,
      "_view_module": "@jupyter-widgets/base",
      "_view_module_version": "1.2.0",
      "_view_name": "LayoutView",
      "align_content": null,
      "align_items": null,
      "align_self": null,
      "border": null,
      "bottom": null,
      "display": null,
      "flex": null,
      "flex_flow": null,
      "grid_area": null,
      "grid_auto_columns": null,
      "grid_auto_flow": null,
      "grid_auto_rows": null,
      "grid_column": null,
      "grid_gap": null,
      "grid_row": null,
      "grid_template_areas": null,
      "grid_template_columns": null,
      "grid_template_rows": null,
      "height": null,
      "justify_content": null,
      "justify_items": null,
      "left": null,
      "margin": null,
      "max_height": null,
      "max_width": null,
      "min_height": null,
      "min_width": null,
      "object_fit": null,
      "object_position": null,
      "order": null,
      "overflow": null,
      "overflow_x": null,
      "overflow_y": null,
      "padding": null,
      "right": null,
      "top": null,
      "visibility": null,
      "width": null
     }
    },
    "689812eecbd248058bfa46ac78728a55": {
     "model_module": "@jupyter-widgets/controls",
     "model_module_version": "1.5.0",
     "model_name": "HTMLModel",
     "state": {
      "_dom_classes": [],
      "_model_module": "@jupyter-widgets/controls",
      "_model_module_version": "1.5.0",
      "_model_name": "HTMLModel",
      "_view_count": null,
      "_view_module": "@jupyter-widgets/controls",
      "_view_module_version": "1.5.0",
      "_view_name": "HTMLView",
      "description": "",
      "description_tooltip": null,
      "layout": "IPY_MODEL_c6ca108cfe314590946de5992954c71d",
      "placeholder": "​",
      "style": "IPY_MODEL_fac7b1f392eb41f4895d44e895526e17",
      "value": "dataset.txt: 100%"
     }
    },
    "83cfd80666484bafba505cd6b11f2432": {
     "model_module": "@jupyter-widgets/controls",
     "model_module_version": "1.5.0",
     "model_name": "DescriptionStyleModel",
     "state": {
      "_model_module": "@jupyter-widgets/controls",
      "_model_module_version": "1.5.0",
      "_model_name": "DescriptionStyleModel",
      "_view_count": null,
      "_view_module": "@jupyter-widgets/base",
      "_view_module_version": "1.2.0",
      "_view_name": "StyleView",
      "description_width": ""
     }
    },
    "9628d7224b67425dae170eb067e39069": {
     "model_module": "@jupyter-widgets/controls",
     "model_module_version": "1.5.0",
     "model_name": "HBoxModel",
     "state": {
      "_dom_classes": [],
      "_model_module": "@jupyter-widgets/controls",
      "_model_module_version": "1.5.0",
      "_model_name": "HBoxModel",
      "_view_count": null,
      "_view_module": "@jupyter-widgets/controls",
      "_view_module_version": "1.5.0",
      "_view_name": "HBoxView",
      "box_style": "",
      "children": [
       "IPY_MODEL_689812eecbd248058bfa46ac78728a55",
       "IPY_MODEL_1d20aaa92f6545dbb0057101cecd2c54",
       "IPY_MODEL_c3ae3ae6c5e14dccaed7a0d03dee8fa4"
      ],
      "layout": "IPY_MODEL_d9fdc19dbc0e4c9ab621fb18eabd628e"
     }
    },
    "ad77d98007f843afaf704fb745c3ec48": {
     "model_module": "@jupyter-widgets/controls",
     "model_module_version": "1.5.0",
     "model_name": "HTMLModel",
     "state": {
      "_dom_classes": [],
      "_model_module": "@jupyter-widgets/controls",
      "_model_module_version": "1.5.0",
      "_model_name": "HTMLModel",
      "_view_count": null,
      "_view_module": "@jupyter-widgets/controls",
      "_view_module_version": "1.5.0",
      "_view_name": "HTMLView",
      "description": "",
      "description_tooltip": null,
      "layout": "IPY_MODEL_b0c4c6177a844fc8b7f5dfd31f07935f",
      "placeholder": "​",
      "style": "IPY_MODEL_4842c631e85c493eb91c3e03c45ff664",
      "value": "Generating train split: 100%"
     }
    },
    "b0c4c6177a844fc8b7f5dfd31f07935f": {
     "model_module": "@jupyter-widgets/base",
     "model_module_version": "1.2.0",
     "model_name": "LayoutModel",
     "state": {
      "_model_module": "@jupyter-widgets/base",
      "_model_module_version": "1.2.0",
      "_model_name": "LayoutModel",
      "_view_count": null,
      "_view_module": "@jupyter-widgets/base",
      "_view_module_version": "1.2.0",
      "_view_name": "LayoutView",
      "align_content": null,
      "align_items": null,
      "align_self": null,
      "border": null,
      "bottom": null,
      "display": null,
      "flex": null,
      "flex_flow": null,
      "grid_area": null,
      "grid_auto_columns": null,
      "grid_auto_flow": null,
      "grid_auto_rows": null,
      "grid_column": null,
      "grid_gap": null,
      "grid_row": null,
      "grid_template_areas": null,
      "grid_template_columns": null,
      "grid_template_rows": null,
      "height": null,
      "justify_content": null,
      "justify_items": null,
      "left": null,
      "margin": null,
      "max_height": null,
      "max_width": null,
      "min_height": null,
      "min_width": null,
      "object_fit": null,
      "object_position": null,
      "order": null,
      "overflow": null,
      "overflow_x": null,
      "overflow_y": null,
      "padding": null,
      "right": null,
      "top": null,
      "visibility": null,
      "width": null
     }
    },
    "b9a7d3b7f1624925a4b26c8f846173fd": {
     "model_module": "@jupyter-widgets/controls",
     "model_module_version": "1.5.0",
     "model_name": "ProgressStyleModel",
     "state": {
      "_model_module": "@jupyter-widgets/controls",
      "_model_module_version": "1.5.0",
      "_model_name": "ProgressStyleModel",
      "_view_count": null,
      "_view_module": "@jupyter-widgets/base",
      "_view_module_version": "1.2.0",
      "_view_name": "StyleView",
      "bar_color": null,
      "description_width": ""
     }
    },
    "bcc3b0a78371432997e128e3df1668da": {
     "model_module": "@jupyter-widgets/controls",
     "model_module_version": "1.5.0",
     "model_name": "ProgressStyleModel",
     "state": {
      "_model_module": "@jupyter-widgets/controls",
      "_model_module_version": "1.5.0",
      "_model_name": "ProgressStyleModel",
      "_view_count": null,
      "_view_module": "@jupyter-widgets/base",
      "_view_module_version": "1.2.0",
      "_view_name": "StyleView",
      "bar_color": null,
      "description_width": ""
     }
    },
    "c3ae3ae6c5e14dccaed7a0d03dee8fa4": {
     "model_module": "@jupyter-widgets/controls",
     "model_module_version": "1.5.0",
     "model_name": "HTMLModel",
     "state": {
      "_dom_classes": [],
      "_model_module": "@jupyter-widgets/controls",
      "_model_module_version": "1.5.0",
      "_model_name": "HTMLModel",
      "_view_count": null,
      "_view_module": "@jupyter-widgets/controls",
      "_view_module_version": "1.5.0",
      "_view_name": "HTMLView",
      "description": "",
      "description_tooltip": null,
      "layout": "IPY_MODEL_c74d6da4ba054a2993c1734b0ae4dd88",
      "placeholder": "​",
      "style": "IPY_MODEL_83cfd80666484bafba505cd6b11f2432",
      "value": " 41.7M/41.7M [00:01&lt;00:00, 37.2MB/s]"
     }
    },
    "c4f7d21134df4315850b837173b9c781": {
     "model_module": "@jupyter-widgets/controls",
     "model_module_version": "1.5.0",
     "model_name": "DescriptionStyleModel",
     "state": {
      "_model_module": "@jupyter-widgets/controls",
      "_model_module_version": "1.5.0",
      "_model_name": "DescriptionStyleModel",
      "_view_count": null,
      "_view_module": "@jupyter-widgets/base",
      "_view_module_version": "1.2.0",
      "_view_name": "StyleView",
      "description_width": ""
     }
    },
    "c6ca108cfe314590946de5992954c71d": {
     "model_module": "@jupyter-widgets/base",
     "model_module_version": "1.2.0",
     "model_name": "LayoutModel",
     "state": {
      "_model_module": "@jupyter-widgets/base",
      "_model_module_version": "1.2.0",
      "_model_name": "LayoutModel",
      "_view_count": null,
      "_view_module": "@jupyter-widgets/base",
      "_view_module_version": "1.2.0",
      "_view_name": "LayoutView",
      "align_content": null,
      "align_items": null,
      "align_self": null,
      "border": null,
      "bottom": null,
      "display": null,
      "flex": null,
      "flex_flow": null,
      "grid_area": null,
      "grid_auto_columns": null,
      "grid_auto_flow": null,
      "grid_auto_rows": null,
      "grid_column": null,
      "grid_gap": null,
      "grid_row": null,
      "grid_template_areas": null,
      "grid_template_columns": null,
      "grid_template_rows": null,
      "height": null,
      "justify_content": null,
      "justify_items": null,
      "left": null,
      "margin": null,
      "max_height": null,
      "max_width": null,
      "min_height": null,
      "min_width": null,
      "object_fit": null,
      "object_position": null,
      "order": null,
      "overflow": null,
      "overflow_x": null,
      "overflow_y": null,
      "padding": null,
      "right": null,
      "top": null,
      "visibility": null,
      "width": null
     }
    },
    "c74d6da4ba054a2993c1734b0ae4dd88": {
     "model_module": "@jupyter-widgets/base",
     "model_module_version": "1.2.0",
     "model_name": "LayoutModel",
     "state": {
      "_model_module": "@jupyter-widgets/base",
      "_model_module_version": "1.2.0",
      "_model_name": "LayoutModel",
      "_view_count": null,
      "_view_module": "@jupyter-widgets/base",
      "_view_module_version": "1.2.0",
      "_view_name": "LayoutView",
      "align_content": null,
      "align_items": null,
      "align_self": null,
      "border": null,
      "bottom": null,
      "display": null,
      "flex": null,
      "flex_flow": null,
      "grid_area": null,
      "grid_auto_columns": null,
      "grid_auto_flow": null,
      "grid_auto_rows": null,
      "grid_column": null,
      "grid_gap": null,
      "grid_row": null,
      "grid_template_areas": null,
      "grid_template_columns": null,
      "grid_template_rows": null,
      "height": null,
      "justify_content": null,
      "justify_items": null,
      "left": null,
      "margin": null,
      "max_height": null,
      "max_width": null,
      "min_height": null,
      "min_width": null,
      "object_fit": null,
      "object_position": null,
      "order": null,
      "overflow": null,
      "overflow_x": null,
      "overflow_y": null,
      "padding": null,
      "right": null,
      "top": null,
      "visibility": null,
      "width": null
     }
    },
    "ce0ae0bf9d8a4956a1938e137b9ad8be": {
     "model_module": "@jupyter-widgets/controls",
     "model_module_version": "1.5.0",
     "model_name": "ProgressStyleModel",
     "state": {
      "_model_module": "@jupyter-widgets/controls",
      "_model_module_version": "1.5.0",
      "_model_name": "ProgressStyleModel",
      "_view_count": null,
      "_view_module": "@jupyter-widgets/base",
      "_view_module_version": "1.2.0",
      "_view_name": "StyleView",
      "bar_color": null,
      "description_width": ""
     }
    },
    "d0ad1bc2870244e89fef6a33dcbb5c59": {
     "model_module": "@jupyter-widgets/base",
     "model_module_version": "1.2.0",
     "model_name": "LayoutModel",
     "state": {
      "_model_module": "@jupyter-widgets/base",
      "_model_module_version": "1.2.0",
      "_model_name": "LayoutModel",
      "_view_count": null,
      "_view_module": "@jupyter-widgets/base",
      "_view_module_version": "1.2.0",
      "_view_name": "LayoutView",
      "align_content": null,
      "align_items": null,
      "align_self": null,
      "border": null,
      "bottom": null,
      "display": null,
      "flex": null,
      "flex_flow": null,
      "grid_area": null,
      "grid_auto_columns": null,
      "grid_auto_flow": null,
      "grid_auto_rows": null,
      "grid_column": null,
      "grid_gap": null,
      "grid_row": null,
      "grid_template_areas": null,
      "grid_template_columns": null,
      "grid_template_rows": null,
      "height": null,
      "justify_content": null,
      "justify_items": null,
      "left": null,
      "margin": null,
      "max_height": null,
      "max_width": null,
      "min_height": null,
      "min_width": null,
      "object_fit": null,
      "object_position": null,
      "order": null,
      "overflow": null,
      "overflow_x": null,
      "overflow_y": null,
      "padding": null,
      "right": null,
      "top": null,
      "visibility": null,
      "width": null
     }
    },
    "d1495c6729f14cf3a028513387146d10": {
     "model_module": "@jupyter-widgets/controls",
     "model_module_version": "1.5.0",
     "model_name": "FloatProgressModel",
     "state": {
      "_dom_classes": [],
      "_model_module": "@jupyter-widgets/controls",
      "_model_module_version": "1.5.0",
      "_model_name": "FloatProgressModel",
      "_view_count": null,
      "_view_module": "@jupyter-widgets/controls",
      "_view_module_version": "1.5.0",
      "_view_name": "ProgressView",
      "bar_style": "success",
      "description": "",
      "description_tooltip": null,
      "layout": "IPY_MODEL_492ed4f9af9c462bba92bd32aea2e09f",
      "max": 99,
      "min": 0,
      "orientation": "horizontal",
      "style": "IPY_MODEL_bcc3b0a78371432997e128e3df1668da",
      "value": 99
     }
    },
    "d9fdc19dbc0e4c9ab621fb18eabd628e": {
     "model_module": "@jupyter-widgets/base",
     "model_module_version": "1.2.0",
     "model_name": "LayoutModel",
     "state": {
      "_model_module": "@jupyter-widgets/base",
      "_model_module_version": "1.2.0",
      "_model_name": "LayoutModel",
      "_view_count": null,
      "_view_module": "@jupyter-widgets/base",
      "_view_module_version": "1.2.0",
      "_view_name": "LayoutView",
      "align_content": null,
      "align_items": null,
      "align_self": null,
      "border": null,
      "bottom": null,
      "display": null,
      "flex": null,
      "flex_flow": null,
      "grid_area": null,
      "grid_auto_columns": null,
      "grid_auto_flow": null,
      "grid_auto_rows": null,
      "grid_column": null,
      "grid_gap": null,
      "grid_row": null,
      "grid_template_areas": null,
      "grid_template_columns": null,
      "grid_template_rows": null,
      "height": null,
      "justify_content": null,
      "justify_items": null,
      "left": null,
      "margin": null,
      "max_height": null,
      "max_width": null,
      "min_height": null,
      "min_width": null,
      "object_fit": null,
      "object_position": null,
      "order": null,
      "overflow": null,
      "overflow_x": null,
      "overflow_y": null,
      "padding": null,
      "right": null,
      "top": null,
      "visibility": null,
      "width": null
     }
    },
    "dbfdbd468bd7490aa7e3db2ded281705": {
     "model_module": "@jupyter-widgets/base",
     "model_module_version": "1.2.0",
     "model_name": "LayoutModel",
     "state": {
      "_model_module": "@jupyter-widgets/base",
      "_model_module_version": "1.2.0",
      "_model_name": "LayoutModel",
      "_view_count": null,
      "_view_module": "@jupyter-widgets/base",
      "_view_module_version": "1.2.0",
      "_view_name": "LayoutView",
      "align_content": null,
      "align_items": null,
      "align_self": null,
      "border": null,
      "bottom": null,
      "display": null,
      "flex": null,
      "flex_flow": null,
      "grid_area": null,
      "grid_auto_columns": null,
      "grid_auto_flow": null,
      "grid_auto_rows": null,
      "grid_column": null,
      "grid_gap": null,
      "grid_row": null,
      "grid_template_areas": null,
      "grid_template_columns": null,
      "grid_template_rows": null,
      "height": null,
      "justify_content": null,
      "justify_items": null,
      "left": null,
      "margin": null,
      "max_height": null,
      "max_width": null,
      "min_height": null,
      "min_width": null,
      "object_fit": null,
      "object_position": null,
      "order": null,
      "overflow": null,
      "overflow_x": null,
      "overflow_y": null,
      "padding": null,
      "right": null,
      "top": null,
      "visibility": null,
      "width": null
     }
    },
    "dd313f38508340ce9222b5207559cab6": {
     "model_module": "@jupyter-widgets/controls",
     "model_module_version": "1.5.0",
     "model_name": "DescriptionStyleModel",
     "state": {
      "_model_module": "@jupyter-widgets/controls",
      "_model_module_version": "1.5.0",
      "_model_name": "DescriptionStyleModel",
      "_view_count": null,
      "_view_module": "@jupyter-widgets/base",
      "_view_module_version": "1.2.0",
      "_view_name": "StyleView",
      "description_width": ""
     }
    },
    "ddd7c0efc3424788a9b8bfe1ccb72a1e": {
     "model_module": "@jupyter-widgets/base",
     "model_module_version": "1.2.0",
     "model_name": "LayoutModel",
     "state": {
      "_model_module": "@jupyter-widgets/base",
      "_model_module_version": "1.2.0",
      "_model_name": "LayoutModel",
      "_view_count": null,
      "_view_module": "@jupyter-widgets/base",
      "_view_module_version": "1.2.0",
      "_view_name": "LayoutView",
      "align_content": null,
      "align_items": null,
      "align_self": null,
      "border": null,
      "bottom": null,
      "display": null,
      "flex": null,
      "flex_flow": null,
      "grid_area": null,
      "grid_auto_columns": null,
      "grid_auto_flow": null,
      "grid_auto_rows": null,
      "grid_column": null,
      "grid_gap": null,
      "grid_row": null,
      "grid_template_areas": null,
      "grid_template_columns": null,
      "grid_template_rows": null,
      "height": null,
      "justify_content": null,
      "justify_items": null,
      "left": null,
      "margin": null,
      "max_height": null,
      "max_width": null,
      "min_height": null,
      "min_width": null,
      "object_fit": null,
      "object_position": null,
      "order": null,
      "overflow": null,
      "overflow_x": null,
      "overflow_y": null,
      "padding": null,
      "right": null,
      "top": null,
      "visibility": null,
      "width": null
     }
    },
    "eae232eeb2c240a2a1ccd8faa98561a5": {
     "model_module": "@jupyter-widgets/controls",
     "model_module_version": "1.5.0",
     "model_name": "FloatProgressModel",
     "state": {
      "_dom_classes": [],
      "_model_module": "@jupyter-widgets/controls",
      "_model_module_version": "1.5.0",
      "_model_name": "FloatProgressModel",
      "_view_count": null,
      "_view_module": "@jupyter-widgets/controls",
      "_view_module_version": "1.5.0",
      "_view_name": "ProgressView",
      "bar_style": "success",
      "description": "",
      "description_tooltip": null,
      "layout": "IPY_MODEL_5749611af2cf4ea4b819406ece6beae6",
      "max": 150553,
      "min": 0,
      "orientation": "horizontal",
      "style": "IPY_MODEL_ce0ae0bf9d8a4956a1938e137b9ad8be",
      "value": 150553
     }
    },
    "f4fbb99c02004716b8c285d1285d5fad": {
     "model_module": "@jupyter-widgets/base",
     "model_module_version": "1.2.0",
     "model_name": "LayoutModel",
     "state": {
      "_model_module": "@jupyter-widgets/base",
      "_model_module_version": "1.2.0",
      "_model_name": "LayoutModel",
      "_view_count": null,
      "_view_module": "@jupyter-widgets/base",
      "_view_module_version": "1.2.0",
      "_view_name": "LayoutView",
      "align_content": null,
      "align_items": null,
      "align_self": null,
      "border": null,
      "bottom": null,
      "display": null,
      "flex": null,
      "flex_flow": null,
      "grid_area": null,
      "grid_auto_columns": null,
      "grid_auto_flow": null,
      "grid_auto_rows": null,
      "grid_column": null,
      "grid_gap": null,
      "grid_row": null,
      "grid_template_areas": null,
      "grid_template_columns": null,
      "grid_template_rows": null,
      "height": null,
      "justify_content": null,
      "justify_items": null,
      "left": null,
      "margin": null,
      "max_height": null,
      "max_width": null,
      "min_height": null,
      "min_width": null,
      "object_fit": null,
      "object_position": null,
      "order": null,
      "overflow": null,
      "overflow_x": null,
      "overflow_y": null,
      "padding": null,
      "right": null,
      "top": null,
      "visibility": null,
      "width": null
     }
    },
    "fac7b1f392eb41f4895d44e895526e17": {
     "model_module": "@jupyter-widgets/controls",
     "model_module_version": "1.5.0",
     "model_name": "DescriptionStyleModel",
     "state": {
      "_model_module": "@jupyter-widgets/controls",
      "_model_module_version": "1.5.0",
      "_model_name": "DescriptionStyleModel",
      "_view_count": null,
      "_view_module": "@jupyter-widgets/base",
      "_view_module_version": "1.2.0",
      "_view_name": "StyleView",
      "description_width": ""
     }
    },
    "ff31fa15c84c4288b889d7153b896793": {
     "model_module": "@jupyter-widgets/controls",
     "model_module_version": "1.5.0",
     "model_name": "HBoxModel",
     "state": {
      "_dom_classes": [],
      "_model_module": "@jupyter-widgets/controls",
      "_model_module_version": "1.5.0",
      "_model_name": "HBoxModel",
      "_view_count": null,
      "_view_module": "@jupyter-widgets/controls",
      "_view_module_version": "1.5.0",
      "_view_name": "HBoxView",
      "box_style": "",
      "children": [
       "IPY_MODEL_049537086a864d609cde3d2ad5beb645",
       "IPY_MODEL_d1495c6729f14cf3a028513387146d10",
       "IPY_MODEL_17be763b0a9045aab225eb7512580f34"
      ],
      "layout": "IPY_MODEL_dbfdbd468bd7490aa7e3db2ded281705"
     }
    }
   }
  }
 },
 "nbformat": 4,
 "nbformat_minor": 4
}
